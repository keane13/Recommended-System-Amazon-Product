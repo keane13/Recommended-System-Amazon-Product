{
  "cells": [
    {
      "cell_type": "markdown",
      "metadata": {
        "id": "view-in-github",
        "colab_type": "text"
      },
      "source": [
        "<a href=\"https://colab.research.google.com/github/keane13/Recommended-System-Amazon-Product/blob/main/Recomendation_System_Amazon_Product.ipynb\" target=\"_parent\"><img src=\"https://colab.research.google.com/assets/colab-badge.svg\" alt=\"Open In Colab\"/></a>"
      ]
    },
    {
      "cell_type": "markdown",
      "metadata": {
        "id": "QoLq5ZUNaG_o"
      },
      "source": [
        "# Recomendation System Produk Amazon\n"
      ]
    },
    {
      "cell_type": "markdown",
      "metadata": {
        "id": "FtvTpOGIaG_u"
      },
      "source": [
        "### 1. Data Extraction"
      ]
    },
    {
      "cell_type": "code",
      "execution_count": null,
      "metadata": {
        "id": "Kt2hlFrHaG_v"
      },
      "outputs": [],
      "source": [
        "import numpy as np\n",
        "import pandas as pd\n",
        "import seaborn as sn\n",
        "import warnings\n",
        "import matplotlib.pyplot as plt\n",
        "\n",
        "from sklearn.model_selection import train_test_split\n",
        "from sklearn.ensemble import RandomForestRegressor\n",
        "import xgboost as xgb\n",
        "from sklearn.tree import DecisionTreeRegressor\n",
        "\n",
        "import xgboost as xgb\n",
        "from sklearn.preprocessing import LabelEncoder, OneHotEncoder, MinMaxScaler, StandardScaler\n",
        "from sklearn.neighbors import KNeighborsRegressor\n",
        "from sklearn.metrics import mean_squared_error, accuracy_score, r2_score, mean_absolute_error\n",
        "from sklearn import metrics"
      ]
    },
    {
      "cell_type": "code",
      "execution_count": null,
      "metadata": {
        "id": "mqjOE4XjaG_x"
      },
      "outputs": [],
      "source": [
        "data = pd.read_csv('Datafiniti_Amazon_Consumer_Reviews_of_Amazon_Products.csv')"
      ]
    },
    {
      "cell_type": "code",
      "execution_count": null,
      "metadata": {
        "colab": {
          "base_uri": "https://localhost:8080/",
          "height": 1000
        },
        "id": "V5rVrJ6daG_y",
        "outputId": "7de0e85a-35e2-4a2f-af19-eaac042f4e38"
      },
      "outputs": [
        {
          "output_type": "execute_result",
          "data": {
            "text/html": [
              "\n",
              "  <div id=\"df-d8845b22-8eb8-4ff2-9995-6da7b803e668\">\n",
              "    <div class=\"colab-df-container\">\n",
              "      <div>\n",
              "<style scoped>\n",
              "    .dataframe tbody tr th:only-of-type {\n",
              "        vertical-align: middle;\n",
              "    }\n",
              "\n",
              "    .dataframe tbody tr th {\n",
              "        vertical-align: top;\n",
              "    }\n",
              "\n",
              "    .dataframe thead th {\n",
              "        text-align: right;\n",
              "    }\n",
              "</style>\n",
              "<table border=\"1\" class=\"dataframe\">\n",
              "  <thead>\n",
              "    <tr style=\"text-align: right;\">\n",
              "      <th></th>\n",
              "      <th>id</th>\n",
              "      <th>dateAdded</th>\n",
              "      <th>dateUpdated</th>\n",
              "      <th>name</th>\n",
              "      <th>asins</th>\n",
              "      <th>brand</th>\n",
              "      <th>categories</th>\n",
              "      <th>primaryCategories</th>\n",
              "      <th>imageURLs</th>\n",
              "      <th>keys</th>\n",
              "      <th>manufacturer</th>\n",
              "      <th>manufacturerNumber</th>\n",
              "      <th>reviews.date</th>\n",
              "      <th>reviews.dateAdded</th>\n",
              "      <th>reviews.dateSeen</th>\n",
              "      <th>reviews.doRecommend</th>\n",
              "      <th>reviews.id</th>\n",
              "      <th>reviews.numHelpful</th>\n",
              "      <th>reviews.rating</th>\n",
              "      <th>reviews.sourceURLs</th>\n",
              "      <th>reviews.text</th>\n",
              "      <th>reviews.title</th>\n",
              "      <th>reviews.username</th>\n",
              "      <th>sourceURLs</th>\n",
              "    </tr>\n",
              "  </thead>\n",
              "  <tbody>\n",
              "    <tr>\n",
              "      <th>0</th>\n",
              "      <td>AVqVGZNvQMlgsOJE6eUY</td>\n",
              "      <td>2017-03-03T16:56:05Z</td>\n",
              "      <td>2018-10-25T16:36:31Z</td>\n",
              "      <td>Amazon Kindle E-Reader 6\" Wifi (8th Generation...</td>\n",
              "      <td>B00ZV9PXP2</td>\n",
              "      <td>Amazon</td>\n",
              "      <td>Computers,Electronics Features,Tablets,Electro...</td>\n",
              "      <td>Electronics</td>\n",
              "      <td>https://pisces.bbystatic.com/image2/BestBuy_US...</td>\n",
              "      <td>allnewkindleereaderblack6glarefreetouchscreend...</td>\n",
              "      <td>Amazon</td>\n",
              "      <td>B00ZV9PXP2</td>\n",
              "      <td>2017-09-03T00:00:00.000Z</td>\n",
              "      <td>NaN</td>\n",
              "      <td>2018-05-27T00:00:00Z,2017-09-18T00:00:00Z,2017...</td>\n",
              "      <td>False</td>\n",
              "      <td>NaN</td>\n",
              "      <td>0</td>\n",
              "      <td>3</td>\n",
              "      <td>http://reviews.bestbuy.com/3545/5442403/review...</td>\n",
              "      <td>I thought it would be as big as small paper bu...</td>\n",
              "      <td>Too small</td>\n",
              "      <td>llyyue</td>\n",
              "      <td>https://www.newegg.com/Product/Product.aspx%25...</td>\n",
              "    </tr>\n",
              "    <tr>\n",
              "      <th>1</th>\n",
              "      <td>AVqVGZNvQMlgsOJE6eUY</td>\n",
              "      <td>2017-03-03T16:56:05Z</td>\n",
              "      <td>2018-10-25T16:36:31Z</td>\n",
              "      <td>Amazon Kindle E-Reader 6\" Wifi (8th Generation...</td>\n",
              "      <td>B00ZV9PXP2</td>\n",
              "      <td>Amazon</td>\n",
              "      <td>Computers,Electronics Features,Tablets,Electro...</td>\n",
              "      <td>Electronics</td>\n",
              "      <td>https://pisces.bbystatic.com/image2/BestBuy_US...</td>\n",
              "      <td>allnewkindleereaderblack6glarefreetouchscreend...</td>\n",
              "      <td>Amazon</td>\n",
              "      <td>B00ZV9PXP2</td>\n",
              "      <td>2017-06-06T00:00:00.000Z</td>\n",
              "      <td>NaN</td>\n",
              "      <td>2018-05-27T00:00:00Z,2017-07-07T00:00:00Z,2017...</td>\n",
              "      <td>True</td>\n",
              "      <td>NaN</td>\n",
              "      <td>0</td>\n",
              "      <td>5</td>\n",
              "      <td>http://reviews.bestbuy.com/3545/5442403/review...</td>\n",
              "      <td>This kindle is light and easy to use especiall...</td>\n",
              "      <td>Great light reader. Easy to use at the beach</td>\n",
              "      <td>Charmi</td>\n",
              "      <td>https://www.newegg.com/Product/Product.aspx%25...</td>\n",
              "    </tr>\n",
              "    <tr>\n",
              "      <th>2</th>\n",
              "      <td>AVqVGZNvQMlgsOJE6eUY</td>\n",
              "      <td>2017-03-03T16:56:05Z</td>\n",
              "      <td>2018-10-25T16:36:31Z</td>\n",
              "      <td>Amazon Kindle E-Reader 6\" Wifi (8th Generation...</td>\n",
              "      <td>B00ZV9PXP2</td>\n",
              "      <td>Amazon</td>\n",
              "      <td>Computers,Electronics Features,Tablets,Electro...</td>\n",
              "      <td>Electronics</td>\n",
              "      <td>https://pisces.bbystatic.com/image2/BestBuy_US...</td>\n",
              "      <td>allnewkindleereaderblack6glarefreetouchscreend...</td>\n",
              "      <td>Amazon</td>\n",
              "      <td>B00ZV9PXP2</td>\n",
              "      <td>2018-04-20T00:00:00.000Z</td>\n",
              "      <td>NaN</td>\n",
              "      <td>2018-05-27T00:00:00Z</td>\n",
              "      <td>True</td>\n",
              "      <td>NaN</td>\n",
              "      <td>0</td>\n",
              "      <td>4</td>\n",
              "      <td>https://reviews.bestbuy.com/3545/5442403/revie...</td>\n",
              "      <td>Didnt know how much i'd use a kindle so went f...</td>\n",
              "      <td>Great for the price</td>\n",
              "      <td>johnnyjojojo</td>\n",
              "      <td>https://www.newegg.com/Product/Product.aspx%25...</td>\n",
              "    </tr>\n",
              "    <tr>\n",
              "      <th>3</th>\n",
              "      <td>AVqVGZNvQMlgsOJE6eUY</td>\n",
              "      <td>2017-03-03T16:56:05Z</td>\n",
              "      <td>2018-10-25T16:36:31Z</td>\n",
              "      <td>Amazon Kindle E-Reader 6\" Wifi (8th Generation...</td>\n",
              "      <td>B00ZV9PXP2</td>\n",
              "      <td>Amazon</td>\n",
              "      <td>Computers,Electronics Features,Tablets,Electro...</td>\n",
              "      <td>Electronics</td>\n",
              "      <td>https://pisces.bbystatic.com/image2/BestBuy_US...</td>\n",
              "      <td>allnewkindleereaderblack6glarefreetouchscreend...</td>\n",
              "      <td>Amazon</td>\n",
              "      <td>B00ZV9PXP2</td>\n",
              "      <td>2017-11-02T17:33:31.000Z</td>\n",
              "      <td>NaN</td>\n",
              "      <td>2018-10-09T00:00:00Z</td>\n",
              "      <td>True</td>\n",
              "      <td>177283626.0</td>\n",
              "      <td>3</td>\n",
              "      <td>5</td>\n",
              "      <td>https://redsky.target.com/groot-domain-api/v1/...</td>\n",
              "      <td>I am 100 happy with my purchase. I caught it o...</td>\n",
              "      <td>A Great Buy</td>\n",
              "      <td>Kdperry</td>\n",
              "      <td>https://www.newegg.com/Product/Product.aspx%25...</td>\n",
              "    </tr>\n",
              "    <tr>\n",
              "      <th>4</th>\n",
              "      <td>AVqVGZNvQMlgsOJE6eUY</td>\n",
              "      <td>2017-03-03T16:56:05Z</td>\n",
              "      <td>2018-10-25T16:36:31Z</td>\n",
              "      <td>Amazon Kindle E-Reader 6\" Wifi (8th Generation...</td>\n",
              "      <td>B00ZV9PXP2</td>\n",
              "      <td>Amazon</td>\n",
              "      <td>Computers,Electronics Features,Tablets,Electro...</td>\n",
              "      <td>Electronics</td>\n",
              "      <td>https://pisces.bbystatic.com/image2/BestBuy_US...</td>\n",
              "      <td>allnewkindleereaderblack6glarefreetouchscreend...</td>\n",
              "      <td>Amazon</td>\n",
              "      <td>B00ZV9PXP2</td>\n",
              "      <td>2018-04-24T00:00:00.000Z</td>\n",
              "      <td>NaN</td>\n",
              "      <td>2018-05-27T00:00:00Z</td>\n",
              "      <td>True</td>\n",
              "      <td>NaN</td>\n",
              "      <td>0</td>\n",
              "      <td>5</td>\n",
              "      <td>https://reviews.bestbuy.com/3545/5442403/revie...</td>\n",
              "      <td>Solid entry level Kindle. Great for kids. Gift...</td>\n",
              "      <td>Solid entry-level Kindle. Great for kids</td>\n",
              "      <td>Johnnyblack</td>\n",
              "      <td>https://www.newegg.com/Product/Product.aspx%25...</td>\n",
              "    </tr>\n",
              "    <tr>\n",
              "      <th>5</th>\n",
              "      <td>AVqVGZNvQMlgsOJE6eUY</td>\n",
              "      <td>2017-03-03T16:56:05Z</td>\n",
              "      <td>2018-10-25T16:36:31Z</td>\n",
              "      <td>Amazon Kindle E-Reader 6\" Wifi (8th Generation...</td>\n",
              "      <td>B00ZV9PXP2</td>\n",
              "      <td>Amazon</td>\n",
              "      <td>Computers,Electronics Features,Tablets,Electro...</td>\n",
              "      <td>Electronics</td>\n",
              "      <td>https://pisces.bbystatic.com/image2/BestBuy_US...</td>\n",
              "      <td>allnewkindleereaderblack6glarefreetouchscreend...</td>\n",
              "      <td>Amazon</td>\n",
              "      <td>B00ZV9PXP2</td>\n",
              "      <td>2016-12-14T00:00:00.000Z</td>\n",
              "      <td>NaN</td>\n",
              "      <td>2018-05-27T00:00:00Z,2017-07-07T00:00:00Z,2017...</td>\n",
              "      <td>False</td>\n",
              "      <td>NaN</td>\n",
              "      <td>0</td>\n",
              "      <td>5</td>\n",
              "      <td>http://reviews.bestbuy.com/3545/5442403/review...</td>\n",
              "      <td>This make an excellent ebook reader. Don't exp...</td>\n",
              "      <td>Good ebook</td>\n",
              "      <td>rmwarriors</td>\n",
              "      <td>https://www.newegg.com/Product/Product.aspx%25...</td>\n",
              "    </tr>\n",
              "    <tr>\n",
              "      <th>6</th>\n",
              "      <td>AVqVGZNvQMlgsOJE6eUY</td>\n",
              "      <td>2017-03-03T16:56:05Z</td>\n",
              "      <td>2018-10-25T16:36:31Z</td>\n",
              "      <td>Amazon Kindle E-Reader 6\" Wifi (8th Generation...</td>\n",
              "      <td>B00ZV9PXP2</td>\n",
              "      <td>Amazon</td>\n",
              "      <td>Computers,Electronics Features,Tablets,Electro...</td>\n",
              "      <td>Electronics</td>\n",
              "      <td>https://pisces.bbystatic.com/image2/BestBuy_US...</td>\n",
              "      <td>allnewkindleereaderblack6glarefreetouchscreend...</td>\n",
              "      <td>Amazon</td>\n",
              "      <td>B00ZV9PXP2</td>\n",
              "      <td>2017-12-20T17:38:23.000Z</td>\n",
              "      <td>NaN</td>\n",
              "      <td>2018-10-09T00:00:00Z</td>\n",
              "      <td>True</td>\n",
              "      <td>187043823.0</td>\n",
              "      <td>0</td>\n",
              "      <td>5</td>\n",
              "      <td>https://redsky.target.com/groot-domain-api/v1/...</td>\n",
              "      <td>I ordered this for my daughter, as I have the ...</td>\n",
              "      <td>Light Weight - Makes a world of difference whe...</td>\n",
              "      <td>LexieCrews</td>\n",
              "      <td>https://www.newegg.com/Product/Product.aspx%25...</td>\n",
              "    </tr>\n",
              "    <tr>\n",
              "      <th>7</th>\n",
              "      <td>AVqVGZNvQMlgsOJE6eUY</td>\n",
              "      <td>2017-03-03T16:56:05Z</td>\n",
              "      <td>2018-10-25T16:36:31Z</td>\n",
              "      <td>Amazon Kindle E-Reader 6\" Wifi (8th Generation...</td>\n",
              "      <td>B00ZV9PXP2</td>\n",
              "      <td>Amazon</td>\n",
              "      <td>Computers,Electronics Features,Tablets,Electro...</td>\n",
              "      <td>Electronics</td>\n",
              "      <td>https://pisces.bbystatic.com/image2/BestBuy_US...</td>\n",
              "      <td>allnewkindleereaderblack6glarefreetouchscreend...</td>\n",
              "      <td>Amazon</td>\n",
              "      <td>B00ZV9PXP2</td>\n",
              "      <td>2017-07-14T00:00:00.000Z</td>\n",
              "      <td>NaN</td>\n",
              "      <td>2017-07-31T00:00:00Z,2017-07-26T00:00:00Z,2018...</td>\n",
              "      <td>False</td>\n",
              "      <td>NaN</td>\n",
              "      <td>0</td>\n",
              "      <td>4</td>\n",
              "      <td>http://reviews.bestbuy.com/3545/5442403/review...</td>\n",
              "      <td>I bought my Kindle about 2 months ago and the ...</td>\n",
              "      <td>not good quality</td>\n",
              "      <td>merry</td>\n",
              "      <td>https://www.newegg.com/Product/Product.aspx%25...</td>\n",
              "    </tr>\n",
              "    <tr>\n",
              "      <th>8</th>\n",
              "      <td>AVqVGZNvQMlgsOJE6eUY</td>\n",
              "      <td>2017-03-03T16:56:05Z</td>\n",
              "      <td>2018-10-25T16:36:31Z</td>\n",
              "      <td>Amazon Kindle E-Reader 6\" Wifi (8th Generation...</td>\n",
              "      <td>B00ZV9PXP2</td>\n",
              "      <td>Amazon</td>\n",
              "      <td>Computers,Electronics Features,Tablets,Electro...</td>\n",
              "      <td>Electronics</td>\n",
              "      <td>https://pisces.bbystatic.com/image2/BestBuy_US...</td>\n",
              "      <td>allnewkindleereaderblack6glarefreetouchscreend...</td>\n",
              "      <td>Amazon</td>\n",
              "      <td>B00ZV9PXP2</td>\n",
              "      <td>2018-05-23T00:00:00.000Z</td>\n",
              "      <td>NaN</td>\n",
              "      <td>2018-05-26T00:00:00Z</td>\n",
              "      <td>True</td>\n",
              "      <td>NaN</td>\n",
              "      <td>0</td>\n",
              "      <td>5</td>\n",
              "      <td>https://reviews.bestbuy.com/3545/5442403/revie...</td>\n",
              "      <td>amazon kindle is always the best ebook, upgrad...</td>\n",
              "      <td>best ebook</td>\n",
              "      <td>STEF</td>\n",
              "      <td>https://www.newegg.com/Product/Product.aspx%25...</td>\n",
              "    </tr>\n",
              "    <tr>\n",
              "      <th>9</th>\n",
              "      <td>AVqVGZNvQMlgsOJE6eUY</td>\n",
              "      <td>2017-03-03T16:56:05Z</td>\n",
              "      <td>2018-10-25T16:36:31Z</td>\n",
              "      <td>Amazon Kindle E-Reader 6\" Wifi (8th Generation...</td>\n",
              "      <td>B00ZV9PXP2</td>\n",
              "      <td>Amazon</td>\n",
              "      <td>Computers,Electronics Features,Tablets,Electro...</td>\n",
              "      <td>Electronics</td>\n",
              "      <td>https://pisces.bbystatic.com/image2/BestBuy_US...</td>\n",
              "      <td>allnewkindleereaderblack6glarefreetouchscreend...</td>\n",
              "      <td>Amazon</td>\n",
              "      <td>B00ZV9PXP2</td>\n",
              "      <td>2018-01-12T00:00:00.000Z</td>\n",
              "      <td>NaN</td>\n",
              "      <td>2018-05-27T00:00:00Z</td>\n",
              "      <td>True</td>\n",
              "      <td>NaN</td>\n",
              "      <td>0</td>\n",
              "      <td>5</td>\n",
              "      <td>https://reviews.bestbuy.com/3545/5442403/revie...</td>\n",
              "      <td>It's beyond my expectation, and it can even sh...</td>\n",
              "      <td>Great Product</td>\n",
              "      <td>AEBY</td>\n",
              "      <td>https://www.newegg.com/Product/Product.aspx%25...</td>\n",
              "    </tr>\n",
              "    <tr>\n",
              "      <th>10</th>\n",
              "      <td>AVqVGZNvQMlgsOJE6eUY</td>\n",
              "      <td>2017-03-03T16:56:05Z</td>\n",
              "      <td>2018-10-25T16:36:31Z</td>\n",
              "      <td>Amazon Kindle E-Reader 6\" Wifi (8th Generation...</td>\n",
              "      <td>B00ZV9PXP2</td>\n",
              "      <td>Amazon</td>\n",
              "      <td>Computers,Electronics Features,Tablets,Electro...</td>\n",
              "      <td>Electronics</td>\n",
              "      <td>https://pisces.bbystatic.com/image2/BestBuy_US...</td>\n",
              "      <td>allnewkindleereaderblack6glarefreetouchscreend...</td>\n",
              "      <td>Amazon</td>\n",
              "      <td>B00ZV9PXP2</td>\n",
              "      <td>2016-09-11T00:00:00.000Z</td>\n",
              "      <td>NaN</td>\n",
              "      <td>2018-05-27T00:00:00Z,2017-07-07T00:00:00Z,2017...</td>\n",
              "      <td>True</td>\n",
              "      <td>NaN</td>\n",
              "      <td>3</td>\n",
              "      <td>5</td>\n",
              "      <td>http://reviews.bestbuy.com/3545/5442403/review...</td>\n",
              "      <td>If you really want to have a good read on some...</td>\n",
              "      <td>Good price excellent reader</td>\n",
              "      <td>jjhippo</td>\n",
              "      <td>https://www.newegg.com/Product/Product.aspx%25...</td>\n",
              "    </tr>\n",
              "    <tr>\n",
              "      <th>11</th>\n",
              "      <td>AVqVGZNvQMlgsOJE6eUY</td>\n",
              "      <td>2017-03-03T16:56:05Z</td>\n",
              "      <td>2018-10-25T16:36:31Z</td>\n",
              "      <td>Amazon Kindle E-Reader 6\" Wifi (8th Generation...</td>\n",
              "      <td>B00ZV9PXP2</td>\n",
              "      <td>Amazon</td>\n",
              "      <td>Computers,Electronics Features,Tablets,Electro...</td>\n",
              "      <td>Electronics</td>\n",
              "      <td>https://pisces.bbystatic.com/image2/BestBuy_US...</td>\n",
              "      <td>allnewkindleereaderblack6glarefreetouchscreend...</td>\n",
              "      <td>Amazon</td>\n",
              "      <td>B00ZV9PXP2</td>\n",
              "      <td>2017-04-22T00:00:00.000Z</td>\n",
              "      <td>NaN</td>\n",
              "      <td>2018-05-27T00:00:00Z,2017-07-07T00:00:00Z,2017...</td>\n",
              "      <td>True</td>\n",
              "      <td>NaN</td>\n",
              "      <td>0</td>\n",
              "      <td>5</td>\n",
              "      <td>https://reviews.bestbuy.com/3545/5442403/revie...</td>\n",
              "      <td>Love my kindle, makes reading at night so easy...</td>\n",
              "      <td>feels like a real book</td>\n",
              "      <td>Sean242</td>\n",
              "      <td>https://www.newegg.com/Product/Product.aspx%25...</td>\n",
              "    </tr>\n",
              "    <tr>\n",
              "      <th>12</th>\n",
              "      <td>AVqVGZNvQMlgsOJE6eUY</td>\n",
              "      <td>2017-03-03T16:56:05Z</td>\n",
              "      <td>2018-10-25T16:36:31Z</td>\n",
              "      <td>Amazon Kindle E-Reader 6\" Wifi (8th Generation...</td>\n",
              "      <td>B00ZV9PXP2</td>\n",
              "      <td>Amazon</td>\n",
              "      <td>Computers,Electronics Features,Tablets,Electro...</td>\n",
              "      <td>Electronics</td>\n",
              "      <td>https://pisces.bbystatic.com/image2/BestBuy_US...</td>\n",
              "      <td>allnewkindleereaderblack6glarefreetouchscreend...</td>\n",
              "      <td>Amazon</td>\n",
              "      <td>B00ZV9PXP2</td>\n",
              "      <td>2017-02-20T00:00:00.000Z</td>\n",
              "      <td>NaN</td>\n",
              "      <td>2018-05-27T00:00:00Z,2017-07-07T00:00:00Z,2017...</td>\n",
              "      <td>True</td>\n",
              "      <td>NaN</td>\n",
              "      <td>0</td>\n",
              "      <td>5</td>\n",
              "      <td>http://reviews.bestbuy.com/3545/5442403/review...</td>\n",
              "      <td>Good product for child. Who only need to read ...</td>\n",
              "      <td>Great readers</td>\n",
              "      <td>Jackie</td>\n",
              "      <td>https://www.newegg.com/Product/Product.aspx%25...</td>\n",
              "    </tr>\n",
              "    <tr>\n",
              "      <th>13</th>\n",
              "      <td>AVqVGZNvQMlgsOJE6eUY</td>\n",
              "      <td>2017-03-03T16:56:05Z</td>\n",
              "      <td>2018-10-25T16:36:31Z</td>\n",
              "      <td>Amazon Kindle E-Reader 6\" Wifi (8th Generation...</td>\n",
              "      <td>B00ZV9PXP2</td>\n",
              "      <td>Amazon</td>\n",
              "      <td>Computers,Electronics Features,Tablets,Electro...</td>\n",
              "      <td>Electronics</td>\n",
              "      <td>https://pisces.bbystatic.com/image2/BestBuy_US...</td>\n",
              "      <td>allnewkindleereaderblack6glarefreetouchscreend...</td>\n",
              "      <td>Amazon</td>\n",
              "      <td>B00ZV9PXP2</td>\n",
              "      <td>2018-01-06T00:00:00.000Z</td>\n",
              "      <td>NaN</td>\n",
              "      <td>2018-05-27T00:00:00Z</td>\n",
              "      <td>True</td>\n",
              "      <td>NaN</td>\n",
              "      <td>0</td>\n",
              "      <td>5</td>\n",
              "      <td>https://reviews.bestbuy.com/3545/5442403/revie...</td>\n",
              "      <td>This Kindle is a convenient size yet lettering...</td>\n",
              "      <td>Just what my grandson wanted</td>\n",
              "      <td>grandma</td>\n",
              "      <td>https://www.newegg.com/Product/Product.aspx%25...</td>\n",
              "    </tr>\n",
              "    <tr>\n",
              "      <th>14</th>\n",
              "      <td>AVqVGZNvQMlgsOJE6eUY</td>\n",
              "      <td>2017-03-03T16:56:05Z</td>\n",
              "      <td>2018-10-25T16:36:31Z</td>\n",
              "      <td>Amazon Kindle E-Reader 6\" Wifi (8th Generation...</td>\n",
              "      <td>B00ZV9PXP2</td>\n",
              "      <td>Amazon</td>\n",
              "      <td>Computers,Electronics Features,Tablets,Electro...</td>\n",
              "      <td>Electronics</td>\n",
              "      <td>https://pisces.bbystatic.com/image2/BestBuy_US...</td>\n",
              "      <td>allnewkindleereaderblack6glarefreetouchscreend...</td>\n",
              "      <td>Amazon</td>\n",
              "      <td>B00ZV9PXP2</td>\n",
              "      <td>2017-02-23T00:00:00.000Z</td>\n",
              "      <td>NaN</td>\n",
              "      <td>2018-05-27T00:00:00Z,2017-07-07T00:00:00Z,2017...</td>\n",
              "      <td>True</td>\n",
              "      <td>NaN</td>\n",
              "      <td>0</td>\n",
              "      <td>5</td>\n",
              "      <td>http://reviews.bestbuy.com/3545/5442403/review...</td>\n",
              "      <td>I use this every day on my commute. Great batt...</td>\n",
              "      <td>Great for reading on the go</td>\n",
              "      <td>BeeRocker</td>\n",
              "      <td>https://www.newegg.com/Product/Product.aspx%25...</td>\n",
              "    </tr>\n",
              "  </tbody>\n",
              "</table>\n",
              "</div>\n",
              "      <button class=\"colab-df-convert\" onclick=\"convertToInteractive('df-d8845b22-8eb8-4ff2-9995-6da7b803e668')\"\n",
              "              title=\"Convert this dataframe to an interactive table.\"\n",
              "              style=\"display:none;\">\n",
              "        \n",
              "  <svg xmlns=\"http://www.w3.org/2000/svg\" height=\"24px\"viewBox=\"0 0 24 24\"\n",
              "       width=\"24px\">\n",
              "    <path d=\"M0 0h24v24H0V0z\" fill=\"none\"/>\n",
              "    <path d=\"M18.56 5.44l.94 2.06.94-2.06 2.06-.94-2.06-.94-.94-2.06-.94 2.06-2.06.94zm-11 1L8.5 8.5l.94-2.06 2.06-.94-2.06-.94L8.5 2.5l-.94 2.06-2.06.94zm10 10l.94 2.06.94-2.06 2.06-.94-2.06-.94-.94-2.06-.94 2.06-2.06.94z\"/><path d=\"M17.41 7.96l-1.37-1.37c-.4-.4-.92-.59-1.43-.59-.52 0-1.04.2-1.43.59L10.3 9.45l-7.72 7.72c-.78.78-.78 2.05 0 2.83L4 21.41c.39.39.9.59 1.41.59.51 0 1.02-.2 1.41-.59l7.78-7.78 2.81-2.81c.8-.78.8-2.07 0-2.86zM5.41 20L4 18.59l7.72-7.72 1.47 1.35L5.41 20z\"/>\n",
              "  </svg>\n",
              "      </button>\n",
              "      \n",
              "  <style>\n",
              "    .colab-df-container {\n",
              "      display:flex;\n",
              "      flex-wrap:wrap;\n",
              "      gap: 12px;\n",
              "    }\n",
              "\n",
              "    .colab-df-convert {\n",
              "      background-color: #E8F0FE;\n",
              "      border: none;\n",
              "      border-radius: 50%;\n",
              "      cursor: pointer;\n",
              "      display: none;\n",
              "      fill: #1967D2;\n",
              "      height: 32px;\n",
              "      padding: 0 0 0 0;\n",
              "      width: 32px;\n",
              "    }\n",
              "\n",
              "    .colab-df-convert:hover {\n",
              "      background-color: #E2EBFA;\n",
              "      box-shadow: 0px 1px 2px rgba(60, 64, 67, 0.3), 0px 1px 3px 1px rgba(60, 64, 67, 0.15);\n",
              "      fill: #174EA6;\n",
              "    }\n",
              "\n",
              "    [theme=dark] .colab-df-convert {\n",
              "      background-color: #3B4455;\n",
              "      fill: #D2E3FC;\n",
              "    }\n",
              "\n",
              "    [theme=dark] .colab-df-convert:hover {\n",
              "      background-color: #434B5C;\n",
              "      box-shadow: 0px 1px 3px 1px rgba(0, 0, 0, 0.15);\n",
              "      filter: drop-shadow(0px 1px 2px rgba(0, 0, 0, 0.3));\n",
              "      fill: #FFFFFF;\n",
              "    }\n",
              "  </style>\n",
              "\n",
              "      <script>\n",
              "        const buttonEl =\n",
              "          document.querySelector('#df-d8845b22-8eb8-4ff2-9995-6da7b803e668 button.colab-df-convert');\n",
              "        buttonEl.style.display =\n",
              "          google.colab.kernel.accessAllowed ? 'block' : 'none';\n",
              "\n",
              "        async function convertToInteractive(key) {\n",
              "          const element = document.querySelector('#df-d8845b22-8eb8-4ff2-9995-6da7b803e668');\n",
              "          const dataTable =\n",
              "            await google.colab.kernel.invokeFunction('convertToInteractive',\n",
              "                                                     [key], {});\n",
              "          if (!dataTable) return;\n",
              "\n",
              "          const docLinkHtml = 'Like what you see? Visit the ' +\n",
              "            '<a target=\"_blank\" href=https://colab.research.google.com/notebooks/data_table.ipynb>data table notebook</a>'\n",
              "            + ' to learn more about interactive tables.';\n",
              "          element.innerHTML = '';\n",
              "          dataTable['output_type'] = 'display_data';\n",
              "          await google.colab.output.renderOutput(dataTable, element);\n",
              "          const docLink = document.createElement('div');\n",
              "          docLink.innerHTML = docLinkHtml;\n",
              "          element.appendChild(docLink);\n",
              "        }\n",
              "      </script>\n",
              "    </div>\n",
              "  </div>\n",
              "  "
            ],
            "text/plain": [
              "                      id  ...                                         sourceURLs\n",
              "0   AVqVGZNvQMlgsOJE6eUY  ...  https://www.newegg.com/Product/Product.aspx%25...\n",
              "1   AVqVGZNvQMlgsOJE6eUY  ...  https://www.newegg.com/Product/Product.aspx%25...\n",
              "2   AVqVGZNvQMlgsOJE6eUY  ...  https://www.newegg.com/Product/Product.aspx%25...\n",
              "3   AVqVGZNvQMlgsOJE6eUY  ...  https://www.newegg.com/Product/Product.aspx%25...\n",
              "4   AVqVGZNvQMlgsOJE6eUY  ...  https://www.newegg.com/Product/Product.aspx%25...\n",
              "5   AVqVGZNvQMlgsOJE6eUY  ...  https://www.newegg.com/Product/Product.aspx%25...\n",
              "6   AVqVGZNvQMlgsOJE6eUY  ...  https://www.newegg.com/Product/Product.aspx%25...\n",
              "7   AVqVGZNvQMlgsOJE6eUY  ...  https://www.newegg.com/Product/Product.aspx%25...\n",
              "8   AVqVGZNvQMlgsOJE6eUY  ...  https://www.newegg.com/Product/Product.aspx%25...\n",
              "9   AVqVGZNvQMlgsOJE6eUY  ...  https://www.newegg.com/Product/Product.aspx%25...\n",
              "10  AVqVGZNvQMlgsOJE6eUY  ...  https://www.newegg.com/Product/Product.aspx%25...\n",
              "11  AVqVGZNvQMlgsOJE6eUY  ...  https://www.newegg.com/Product/Product.aspx%25...\n",
              "12  AVqVGZNvQMlgsOJE6eUY  ...  https://www.newegg.com/Product/Product.aspx%25...\n",
              "13  AVqVGZNvQMlgsOJE6eUY  ...  https://www.newegg.com/Product/Product.aspx%25...\n",
              "14  AVqVGZNvQMlgsOJE6eUY  ...  https://www.newegg.com/Product/Product.aspx%25...\n",
              "\n",
              "[15 rows x 24 columns]"
            ]
          },
          "metadata": {},
          "execution_count": 7
        }
      ],
      "source": [
        "data.head(15)"
      ]
    },
    {
      "cell_type": "code",
      "execution_count": null,
      "metadata": {
        "id": "YS0EzornaG_z",
        "colab": {
          "base_uri": "https://localhost:8080/"
        },
        "outputId": "66465ccd-25f1-4ccf-bf44-89d122cde0fe"
      },
      "outputs": [
        {
          "output_type": "stream",
          "name": "stdout",
          "text": [
            "<class 'pandas.core.frame.DataFrame'>\n",
            "RangeIndex: 5000 entries, 0 to 4999\n",
            "Data columns (total 24 columns):\n",
            " #   Column               Non-Null Count  Dtype  \n",
            "---  ------               --------------  -----  \n",
            " 0   id                   5000 non-null   object \n",
            " 1   dateAdded            5000 non-null   object \n",
            " 2   dateUpdated          5000 non-null   object \n",
            " 3   name                 5000 non-null   object \n",
            " 4   asins                5000 non-null   object \n",
            " 5   brand                5000 non-null   object \n",
            " 6   categories           5000 non-null   object \n",
            " 7   primaryCategories    5000 non-null   object \n",
            " 8   imageURLs            5000 non-null   object \n",
            " 9   keys                 5000 non-null   object \n",
            " 10  manufacturer         5000 non-null   object \n",
            " 11  manufacturerNumber   5000 non-null   object \n",
            " 12  reviews.date         5000 non-null   object \n",
            " 13  reviews.dateAdded    1052 non-null   object \n",
            " 14  reviews.dateSeen     5000 non-null   object \n",
            " 15  reviews.doRecommend  5000 non-null   bool   \n",
            " 16  reviews.id           29 non-null     float64\n",
            " 17  reviews.numHelpful   5000 non-null   int64  \n",
            " 18  reviews.rating       5000 non-null   int64  \n",
            " 19  reviews.sourceURLs   5000 non-null   object \n",
            " 20  reviews.text         5000 non-null   object \n",
            " 21  reviews.title        4987 non-null   object \n",
            " 22  reviews.username     5000 non-null   object \n",
            " 23  sourceURLs           5000 non-null   object \n",
            "dtypes: bool(1), float64(1), int64(2), object(20)\n",
            "memory usage: 903.4+ KB\n"
          ]
        }
      ],
      "source": [
        "data.info()"
      ]
    },
    {
      "cell_type": "code",
      "source": [
        "datas=data[['id','primaryCategories','name','asins','reviews.rating','reviews.text']]"
      ],
      "metadata": {
        "id": "A6-f712BrP1t"
      },
      "execution_count": null,
      "outputs": []
    },
    {
      "cell_type": "code",
      "source": [
        "datas.head()"
      ],
      "metadata": {
        "colab": {
          "base_uri": "https://localhost:8080/",
          "height": 424
        },
        "id": "oRqXhsCbsPho",
        "outputId": "2e429cde-b145-4d06-d300-95056efa3c25"
      },
      "execution_count": null,
      "outputs": [
        {
          "output_type": "execute_result",
          "data": {
            "text/html": [
              "\n",
              "  <div id=\"df-a5785089-5858-4377-bb8c-2b3cb554ae7a\">\n",
              "    <div class=\"colab-df-container\">\n",
              "      <div>\n",
              "<style scoped>\n",
              "    .dataframe tbody tr th:only-of-type {\n",
              "        vertical-align: middle;\n",
              "    }\n",
              "\n",
              "    .dataframe tbody tr th {\n",
              "        vertical-align: top;\n",
              "    }\n",
              "\n",
              "    .dataframe thead th {\n",
              "        text-align: right;\n",
              "    }\n",
              "</style>\n",
              "<table border=\"1\" class=\"dataframe\">\n",
              "  <thead>\n",
              "    <tr style=\"text-align: right;\">\n",
              "      <th></th>\n",
              "      <th>id</th>\n",
              "      <th>primaryCategories</th>\n",
              "      <th>name</th>\n",
              "      <th>asins</th>\n",
              "      <th>reviews.rating</th>\n",
              "      <th>reviews.text</th>\n",
              "    </tr>\n",
              "  </thead>\n",
              "  <tbody>\n",
              "    <tr>\n",
              "      <th>0</th>\n",
              "      <td>AVqVGZNvQMlgsOJE6eUY</td>\n",
              "      <td>Electronics</td>\n",
              "      <td>Amazon Kindle E-Reader 6\" Wifi (8th Generation...</td>\n",
              "      <td>B00ZV9PXP2</td>\n",
              "      <td>3</td>\n",
              "      <td>I thought it would be as big as small paper bu...</td>\n",
              "    </tr>\n",
              "    <tr>\n",
              "      <th>1</th>\n",
              "      <td>AVqVGZNvQMlgsOJE6eUY</td>\n",
              "      <td>Electronics</td>\n",
              "      <td>Amazon Kindle E-Reader 6\" Wifi (8th Generation...</td>\n",
              "      <td>B00ZV9PXP2</td>\n",
              "      <td>5</td>\n",
              "      <td>This kindle is light and easy to use especiall...</td>\n",
              "    </tr>\n",
              "    <tr>\n",
              "      <th>2</th>\n",
              "      <td>AVqVGZNvQMlgsOJE6eUY</td>\n",
              "      <td>Electronics</td>\n",
              "      <td>Amazon Kindle E-Reader 6\" Wifi (8th Generation...</td>\n",
              "      <td>B00ZV9PXP2</td>\n",
              "      <td>4</td>\n",
              "      <td>Didnt know how much i'd use a kindle so went f...</td>\n",
              "    </tr>\n",
              "    <tr>\n",
              "      <th>3</th>\n",
              "      <td>AVqVGZNvQMlgsOJE6eUY</td>\n",
              "      <td>Electronics</td>\n",
              "      <td>Amazon Kindle E-Reader 6\" Wifi (8th Generation...</td>\n",
              "      <td>B00ZV9PXP2</td>\n",
              "      <td>5</td>\n",
              "      <td>I am 100 happy with my purchase. I caught it o...</td>\n",
              "    </tr>\n",
              "    <tr>\n",
              "      <th>4</th>\n",
              "      <td>AVqVGZNvQMlgsOJE6eUY</td>\n",
              "      <td>Electronics</td>\n",
              "      <td>Amazon Kindle E-Reader 6\" Wifi (8th Generation...</td>\n",
              "      <td>B00ZV9PXP2</td>\n",
              "      <td>5</td>\n",
              "      <td>Solid entry level Kindle. Great for kids. Gift...</td>\n",
              "    </tr>\n",
              "  </tbody>\n",
              "</table>\n",
              "</div>\n",
              "      <button class=\"colab-df-convert\" onclick=\"convertToInteractive('df-a5785089-5858-4377-bb8c-2b3cb554ae7a')\"\n",
              "              title=\"Convert this dataframe to an interactive table.\"\n",
              "              style=\"display:none;\">\n",
              "        \n",
              "  <svg xmlns=\"http://www.w3.org/2000/svg\" height=\"24px\"viewBox=\"0 0 24 24\"\n",
              "       width=\"24px\">\n",
              "    <path d=\"M0 0h24v24H0V0z\" fill=\"none\"/>\n",
              "    <path d=\"M18.56 5.44l.94 2.06.94-2.06 2.06-.94-2.06-.94-.94-2.06-.94 2.06-2.06.94zm-11 1L8.5 8.5l.94-2.06 2.06-.94-2.06-.94L8.5 2.5l-.94 2.06-2.06.94zm10 10l.94 2.06.94-2.06 2.06-.94-2.06-.94-.94-2.06-.94 2.06-2.06.94z\"/><path d=\"M17.41 7.96l-1.37-1.37c-.4-.4-.92-.59-1.43-.59-.52 0-1.04.2-1.43.59L10.3 9.45l-7.72 7.72c-.78.78-.78 2.05 0 2.83L4 21.41c.39.39.9.59 1.41.59.51 0 1.02-.2 1.41-.59l7.78-7.78 2.81-2.81c.8-.78.8-2.07 0-2.86zM5.41 20L4 18.59l7.72-7.72 1.47 1.35L5.41 20z\"/>\n",
              "  </svg>\n",
              "      </button>\n",
              "      \n",
              "  <style>\n",
              "    .colab-df-container {\n",
              "      display:flex;\n",
              "      flex-wrap:wrap;\n",
              "      gap: 12px;\n",
              "    }\n",
              "\n",
              "    .colab-df-convert {\n",
              "      background-color: #E8F0FE;\n",
              "      border: none;\n",
              "      border-radius: 50%;\n",
              "      cursor: pointer;\n",
              "      display: none;\n",
              "      fill: #1967D2;\n",
              "      height: 32px;\n",
              "      padding: 0 0 0 0;\n",
              "      width: 32px;\n",
              "    }\n",
              "\n",
              "    .colab-df-convert:hover {\n",
              "      background-color: #E2EBFA;\n",
              "      box-shadow: 0px 1px 2px rgba(60, 64, 67, 0.3), 0px 1px 3px 1px rgba(60, 64, 67, 0.15);\n",
              "      fill: #174EA6;\n",
              "    }\n",
              "\n",
              "    [theme=dark] .colab-df-convert {\n",
              "      background-color: #3B4455;\n",
              "      fill: #D2E3FC;\n",
              "    }\n",
              "\n",
              "    [theme=dark] .colab-df-convert:hover {\n",
              "      background-color: #434B5C;\n",
              "      box-shadow: 0px 1px 3px 1px rgba(0, 0, 0, 0.15);\n",
              "      filter: drop-shadow(0px 1px 2px rgba(0, 0, 0, 0.3));\n",
              "      fill: #FFFFFF;\n",
              "    }\n",
              "  </style>\n",
              "\n",
              "      <script>\n",
              "        const buttonEl =\n",
              "          document.querySelector('#df-a5785089-5858-4377-bb8c-2b3cb554ae7a button.colab-df-convert');\n",
              "        buttonEl.style.display =\n",
              "          google.colab.kernel.accessAllowed ? 'block' : 'none';\n",
              "\n",
              "        async function convertToInteractive(key) {\n",
              "          const element = document.querySelector('#df-a5785089-5858-4377-bb8c-2b3cb554ae7a');\n",
              "          const dataTable =\n",
              "            await google.colab.kernel.invokeFunction('convertToInteractive',\n",
              "                                                     [key], {});\n",
              "          if (!dataTable) return;\n",
              "\n",
              "          const docLinkHtml = 'Like what you see? Visit the ' +\n",
              "            '<a target=\"_blank\" href=https://colab.research.google.com/notebooks/data_table.ipynb>data table notebook</a>'\n",
              "            + ' to learn more about interactive tables.';\n",
              "          element.innerHTML = '';\n",
              "          dataTable['output_type'] = 'display_data';\n",
              "          await google.colab.output.renderOutput(dataTable, element);\n",
              "          const docLink = document.createElement('div');\n",
              "          docLink.innerHTML = docLinkHtml;\n",
              "          element.appendChild(docLink);\n",
              "        }\n",
              "      </script>\n",
              "    </div>\n",
              "  </div>\n",
              "  "
            ],
            "text/plain": [
              "                     id  ...                                       reviews.text\n",
              "0  AVqVGZNvQMlgsOJE6eUY  ...  I thought it would be as big as small paper bu...\n",
              "1  AVqVGZNvQMlgsOJE6eUY  ...  This kindle is light and easy to use especiall...\n",
              "2  AVqVGZNvQMlgsOJE6eUY  ...  Didnt know how much i'd use a kindle so went f...\n",
              "3  AVqVGZNvQMlgsOJE6eUY  ...  I am 100 happy with my purchase. I caught it o...\n",
              "4  AVqVGZNvQMlgsOJE6eUY  ...  Solid entry level Kindle. Great for kids. Gift...\n",
              "\n",
              "[5 rows x 6 columns]"
            ]
          },
          "metadata": {},
          "execution_count": 17
        }
      ]
    },
    {
      "cell_type": "code",
      "execution_count": null,
      "metadata": {
        "id": "wDLV6YiIaG_1",
        "outputId": "8fc1286c-882d-4153-cb4d-64958fb2cba9",
        "colab": {
          "base_uri": "https://localhost:8080/"
        }
      },
      "outputs": [
        {
          "output_type": "execute_result",
          "data": {
            "text/plain": [
              "(5000, 6)"
            ]
          },
          "metadata": {},
          "execution_count": 18
        }
      ],
      "source": [
        "datas.shape"
      ]
    },
    {
      "cell_type": "code",
      "execution_count": null,
      "metadata": {
        "id": "PPvF3E76aG_1",
        "outputId": "a0857a80-66fb-4fb7-9e85-4dceec16b9c3",
        "colab": {
          "base_uri": "https://localhost:8080/"
        }
      },
      "outputs": [
        {
          "output_type": "execute_result",
          "data": {
            "text/plain": [
              "id                   0\n",
              "primaryCategories    0\n",
              "name                 0\n",
              "asins                0\n",
              "reviews.rating       0\n",
              "reviews.text         0\n",
              "dtype: int64"
            ]
          },
          "metadata": {},
          "execution_count": 19
        }
      ],
      "source": [
        "datas.isna().sum()"
      ]
    },
    {
      "cell_type": "code",
      "execution_count": null,
      "metadata": {
        "id": "Hgzphg2vaG_3",
        "outputId": "80117c18-5580-4f85-f23c-8ebb898fe5ef",
        "colab": {
          "base_uri": "https://localhost:8080/"
        }
      },
      "outputs": [
        {
          "output_type": "stream",
          "name": "stdout",
          "text": [
            "<class 'pandas.core.frame.DataFrame'>\n",
            "RangeIndex: 5000 entries, 0 to 4999\n",
            "Data columns (total 6 columns):\n",
            " #   Column          Non-Null Count  Dtype \n",
            "---  ------          --------------  ----- \n",
            " 0   id              5000 non-null   object\n",
            " 1   categories      5000 non-null   object\n",
            " 2   name            5000 non-null   object\n",
            " 3   asins           5000 non-null   object\n",
            " 4   reviews.rating  5000 non-null   int64 \n",
            " 5   reviews.text    5000 non-null   object\n",
            "dtypes: int64(1), object(5)\n",
            "memory usage: 234.5+ KB\n"
          ]
        }
      ],
      "source": [
        "datas.info()"
      ]
    },
    {
      "cell_type": "code",
      "execution_count": null,
      "metadata": {
        "id": "H5Mz8dkqaG_3",
        "outputId": "52469587-1d5d-4051-faa6-6716f6e574b8",
        "colab": {
          "base_uri": "https://localhost:8080/",
          "height": 300
        }
      },
      "outputs": [
        {
          "output_type": "execute_result",
          "data": {
            "text/html": [
              "\n",
              "  <div id=\"df-0754e4e4-40ae-42b0-9dce-b64a027a1e6c\">\n",
              "    <div class=\"colab-df-container\">\n",
              "      <div>\n",
              "<style scoped>\n",
              "    .dataframe tbody tr th:only-of-type {\n",
              "        vertical-align: middle;\n",
              "    }\n",
              "\n",
              "    .dataframe tbody tr th {\n",
              "        vertical-align: top;\n",
              "    }\n",
              "\n",
              "    .dataframe thead th {\n",
              "        text-align: right;\n",
              "    }\n",
              "</style>\n",
              "<table border=\"1\" class=\"dataframe\">\n",
              "  <thead>\n",
              "    <tr style=\"text-align: right;\">\n",
              "      <th></th>\n",
              "      <th>reviews.rating</th>\n",
              "    </tr>\n",
              "  </thead>\n",
              "  <tbody>\n",
              "    <tr>\n",
              "      <th>count</th>\n",
              "      <td>5000.000000</td>\n",
              "    </tr>\n",
              "    <tr>\n",
              "      <th>mean</th>\n",
              "      <td>4.596800</td>\n",
              "    </tr>\n",
              "    <tr>\n",
              "      <th>std</th>\n",
              "      <td>0.731804</td>\n",
              "    </tr>\n",
              "    <tr>\n",
              "      <th>min</th>\n",
              "      <td>1.000000</td>\n",
              "    </tr>\n",
              "    <tr>\n",
              "      <th>25%</th>\n",
              "      <td>4.000000</td>\n",
              "    </tr>\n",
              "    <tr>\n",
              "      <th>50%</th>\n",
              "      <td>5.000000</td>\n",
              "    </tr>\n",
              "    <tr>\n",
              "      <th>75%</th>\n",
              "      <td>5.000000</td>\n",
              "    </tr>\n",
              "    <tr>\n",
              "      <th>max</th>\n",
              "      <td>5.000000</td>\n",
              "    </tr>\n",
              "  </tbody>\n",
              "</table>\n",
              "</div>\n",
              "      <button class=\"colab-df-convert\" onclick=\"convertToInteractive('df-0754e4e4-40ae-42b0-9dce-b64a027a1e6c')\"\n",
              "              title=\"Convert this dataframe to an interactive table.\"\n",
              "              style=\"display:none;\">\n",
              "        \n",
              "  <svg xmlns=\"http://www.w3.org/2000/svg\" height=\"24px\"viewBox=\"0 0 24 24\"\n",
              "       width=\"24px\">\n",
              "    <path d=\"M0 0h24v24H0V0z\" fill=\"none\"/>\n",
              "    <path d=\"M18.56 5.44l.94 2.06.94-2.06 2.06-.94-2.06-.94-.94-2.06-.94 2.06-2.06.94zm-11 1L8.5 8.5l.94-2.06 2.06-.94-2.06-.94L8.5 2.5l-.94 2.06-2.06.94zm10 10l.94 2.06.94-2.06 2.06-.94-2.06-.94-.94-2.06-.94 2.06-2.06.94z\"/><path d=\"M17.41 7.96l-1.37-1.37c-.4-.4-.92-.59-1.43-.59-.52 0-1.04.2-1.43.59L10.3 9.45l-7.72 7.72c-.78.78-.78 2.05 0 2.83L4 21.41c.39.39.9.59 1.41.59.51 0 1.02-.2 1.41-.59l7.78-7.78 2.81-2.81c.8-.78.8-2.07 0-2.86zM5.41 20L4 18.59l7.72-7.72 1.47 1.35L5.41 20z\"/>\n",
              "  </svg>\n",
              "      </button>\n",
              "      \n",
              "  <style>\n",
              "    .colab-df-container {\n",
              "      display:flex;\n",
              "      flex-wrap:wrap;\n",
              "      gap: 12px;\n",
              "    }\n",
              "\n",
              "    .colab-df-convert {\n",
              "      background-color: #E8F0FE;\n",
              "      border: none;\n",
              "      border-radius: 50%;\n",
              "      cursor: pointer;\n",
              "      display: none;\n",
              "      fill: #1967D2;\n",
              "      height: 32px;\n",
              "      padding: 0 0 0 0;\n",
              "      width: 32px;\n",
              "    }\n",
              "\n",
              "    .colab-df-convert:hover {\n",
              "      background-color: #E2EBFA;\n",
              "      box-shadow: 0px 1px 2px rgba(60, 64, 67, 0.3), 0px 1px 3px 1px rgba(60, 64, 67, 0.15);\n",
              "      fill: #174EA6;\n",
              "    }\n",
              "\n",
              "    [theme=dark] .colab-df-convert {\n",
              "      background-color: #3B4455;\n",
              "      fill: #D2E3FC;\n",
              "    }\n",
              "\n",
              "    [theme=dark] .colab-df-convert:hover {\n",
              "      background-color: #434B5C;\n",
              "      box-shadow: 0px 1px 3px 1px rgba(0, 0, 0, 0.15);\n",
              "      filter: drop-shadow(0px 1px 2px rgba(0, 0, 0, 0.3));\n",
              "      fill: #FFFFFF;\n",
              "    }\n",
              "  </style>\n",
              "\n",
              "      <script>\n",
              "        const buttonEl =\n",
              "          document.querySelector('#df-0754e4e4-40ae-42b0-9dce-b64a027a1e6c button.colab-df-convert');\n",
              "        buttonEl.style.display =\n",
              "          google.colab.kernel.accessAllowed ? 'block' : 'none';\n",
              "\n",
              "        async function convertToInteractive(key) {\n",
              "          const element = document.querySelector('#df-0754e4e4-40ae-42b0-9dce-b64a027a1e6c');\n",
              "          const dataTable =\n",
              "            await google.colab.kernel.invokeFunction('convertToInteractive',\n",
              "                                                     [key], {});\n",
              "          if (!dataTable) return;\n",
              "\n",
              "          const docLinkHtml = 'Like what you see? Visit the ' +\n",
              "            '<a target=\"_blank\" href=https://colab.research.google.com/notebooks/data_table.ipynb>data table notebook</a>'\n",
              "            + ' to learn more about interactive tables.';\n",
              "          element.innerHTML = '';\n",
              "          dataTable['output_type'] = 'display_data';\n",
              "          await google.colab.output.renderOutput(dataTable, element);\n",
              "          const docLink = document.createElement('div');\n",
              "          docLink.innerHTML = docLinkHtml;\n",
              "          element.appendChild(docLink);\n",
              "        }\n",
              "      </script>\n",
              "    </div>\n",
              "  </div>\n",
              "  "
            ],
            "text/plain": [
              "       reviews.rating\n",
              "count     5000.000000\n",
              "mean         4.596800\n",
              "std          0.731804\n",
              "min          1.000000\n",
              "25%          4.000000\n",
              "50%          5.000000\n",
              "75%          5.000000\n",
              "max          5.000000"
            ]
          },
          "metadata": {},
          "execution_count": 10
        }
      ],
      "source": [
        "datas.describe()"
      ]
    },
    {
      "cell_type": "markdown",
      "metadata": {
        "id": "l9_G10nQaG_4"
      },
      "source": [
        "## 2. EDA "
      ]
    },
    {
      "cell_type": "code",
      "execution_count": null,
      "metadata": {
        "id": "0VclnfQIaG_4",
        "outputId": "09299961-3055-4701-d418-2c5e6ae37995",
        "colab": {
          "base_uri": "https://localhost:8080/",
          "height": 351
        }
      },
      "outputs": [
        {
          "output_type": "stream",
          "name": "stderr",
          "text": [
            "/usr/local/lib/python3.7/dist-packages/seaborn/_decorators.py:43: FutureWarning: Pass the following variable as a keyword arg: x. From version 0.12, the only valid positional argument will be `data`, and passing other arguments without an explicit keyword will result in an error or misinterpretation.\n",
            "  FutureWarning\n"
          ]
        },
        {
          "output_type": "execute_result",
          "data": {
            "text/plain": [
              "<matplotlib.axes._subplots.AxesSubplot at 0x7fac87a3ee10>"
            ]
          },
          "metadata": {},
          "execution_count": 11
        },
        {
          "output_type": "display_data",
          "data": {
            "image/png": "[encoded data removed]",
            "text/plain": [
              "<Figure size 432x288 with 1 Axes>"
            ]
          },
          "metadata": {
            "needs_background": "light"
          }
        }
      ],
      "source": [
        "sn.countplot(datas[\"reviews.rating\"]) #count every score"
      ]
    },
    {
      "cell_type": "code",
      "execution_count": null,
      "metadata": {
        "id": "ffgij685aG_5",
        "outputId": "d4dd804a-581c-4db5-d8ad-92c5b70fb616",
        "colab": {
          "base_uri": "https://localhost:8080/"
        }
      },
      "outputs": [
        {
          "output_type": "execute_result",
          "data": {
            "text/plain": [
              "5    3478\n",
              "4    1208\n",
              "3     197\n",
              "1      63\n",
              "2      54\n",
              "Name: reviews.rating, dtype: int64"
            ]
          },
          "metadata": {},
          "execution_count": 12
        }
      ],
      "source": [
        "\n",
        "datas['reviews.rating'].value_counts()"
      ]
    },
    {
      "cell_type": "code",
      "execution_count": null,
      "metadata": {
        "id": "4rNvkg-qaG_5",
        "outputId": "c6dc6694-7d18-4ceb-d709-26144b5ccf26",
        "colab": {
          "base_uri": "https://localhost:8080/",
          "height": 652
        }
      },
      "outputs": [
        {
          "output_type": "stream",
          "name": "stderr",
          "text": [
            "/usr/local/lib/python3.7/dist-packages/seaborn/_decorators.py:43: FutureWarning: Pass the following variable as a keyword arg: x. From version 0.12, the only valid positional argument will be `data`, and passing other arguments without an explicit keyword will result in an error or misinterpretation.\n",
            "  FutureWarning\n"
          ]
        },
        {
          "output_type": "execute_result",
          "data": {
            "text/plain": [
              "<matplotlib.axes._subplots.AxesSubplot at 0x7fac852abe10>"
            ]
          },
          "metadata": {},
          "execution_count": 20
        },
        {
          "output_type": "display_data",
          "data": {
            "image/png": "[encoded data removed]",
            "text/plain": [
              "<Figure size 1080x720 with 1 Axes>"
            ]
          },
          "metadata": {
            "needs_background": "light"
          }
        }
      ],
      "source": [
        "plt.figure(figsize=[15,10])\n",
        "sn.countplot(datas[\"primaryCategories\"])"
      ]
    },
    {
      "cell_type": "code",
      "source": [
        "datas['asins'].value_counts()"
      ],
      "metadata": {
        "colab": {
          "base_uri": "https://localhost:8080/"
        },
        "id": "TESvtYP2XRxy",
        "outputId": "a139f483-53c3-464f-d364-f7606a7b8c56"
      },
      "execution_count": null,
      "outputs": [
        {
          "output_type": "execute_result",
          "data": {
            "text/plain": [
              "B01AHB9CN2    334\n",
              "B010CEHQTG    262\n",
              "B06XB29FPF    248\n",
              "B018Y22C2Y    227\n",
              "B018Y225IA    182\n",
              "B018Y22BI4    142\n",
              "B01BH83OOM     89\n",
              "B018Y23MNM     71\n",
              "B01J24C0TI     68\n",
              "B017JG41PC     51\n",
              "B0189XYY0Q     44\n",
              "B00ZV9PXP2     42\n",
              "B00IOY8XWQ     38\n",
              "B018Y224PY     38\n",
              "B01AHBDCKQ     34\n",
              "B01ACEKAJY     26\n",
              "B01AHB9C1E     20\n",
              "B01AHBBG04     19\n",
              "B01AHB9CYG     19\n",
              "B00REQKWGA     12\n",
              "B00VINDBJK     11\n",
              "B00IOYAM4I     11\n",
              "B00QFQRELG     10\n",
              "B01N32NCPM      2\n",
              "Name: asins, dtype: int64"
            ]
          },
          "metadata": {},
          "execution_count": 43
        }
      ]
    },
    {
      "cell_type": "code",
      "source": [
        "datas['primaryCategories'].value_counts()"
      ],
      "metadata": {
        "colab": {
          "base_uri": "https://localhost:8080/"
        },
        "id": "TzANX1g3XgkD",
        "outputId": "12bd8838-3866-4a47-84ad-b614752635da"
      },
      "execution_count": null,
      "outputs": [
        {
          "output_type": "execute_result",
          "data": {
            "text/plain": [
              "Electronics                    3276\n",
              "Electronics,Hardware           1435\n",
              "Office Supplies,Electronics     265\n",
              "Electronics,Media                24\n",
              "Name: primaryCategories, dtype: int64"
            ]
          },
          "metadata": {},
          "execution_count": 21
        }
      ]
    },
    {
      "cell_type": "code",
      "execution_count": null,
      "metadata": {
        "id": "vf3s1B7caG_6"
      },
      "outputs": [],
      "source": [
        ""
      ]
    },
    {
      "cell_type": "markdown",
      "metadata": {
        "id": "lORnrWUWaG_6"
      },
      "source": [
        "## 3. Data Preprocessing"
      ]
    },
    {
      "cell_type": "code",
      "source": [
        "data.duplicated().sum()"
      ],
      "metadata": {
        "colab": {
          "base_uri": "https://localhost:8080/"
        },
        "id": "7G_OyGeBzUEc",
        "outputId": "31c4eeff-c954-4d17-bb85-93e932d62d72"
      },
      "execution_count": null,
      "outputs": [
        {
          "output_type": "execute_result",
          "data": {
            "text/plain": [
              "95"
            ]
          },
          "metadata": {},
          "execution_count": 192
        }
      ]
    },
    {
      "cell_type": "code",
      "source": [
        "data=data.drop_duplicates()"
      ],
      "metadata": {
        "id": "MzJPYzffzxqw"
      },
      "execution_count": null,
      "outputs": []
    },
    {
      "cell_type": "code",
      "source": [
        "datas.isna().sum()"
      ],
      "metadata": {
        "colab": {
          "base_uri": "https://localhost:8080/"
        },
        "id": "CQdP35aaza8L",
        "outputId": "35917711-dd7e-4919-93e0-b506c4068139"
      },
      "execution_count": null,
      "outputs": [
        {
          "output_type": "execute_result",
          "data": {
            "text/plain": [
              "id                   0\n",
              "primaryCategories    0\n",
              "name                 0\n",
              "asins                0\n",
              "reviews.rating       0\n",
              "reviews.text         0\n",
              "dtype: int64"
            ]
          },
          "metadata": {},
          "execution_count": 189
        }
      ]
    },
    {
      "cell_type": "markdown",
      "metadata": {
        "id": "L9zeZ5dIaHAD"
      },
      "source": [
        "###  Colaborative Filtering 2"
      ]
    },
    {
      "cell_type": "code",
      "execution_count": null,
      "metadata": {
        "id": "Ns98LHvfaHAG"
      },
      "outputs": [],
      "source": [
        "from scipy.spatial.distance import cosine"
      ]
    },
    {
      "cell_type": "code",
      "execution_count": null,
      "metadata": {
        "id": "Gmey-tovaHAH",
        "colab": {
          "base_uri": "https://localhost:8080/",
          "height": 301
        },
        "outputId": "b5497b87-7533-4b01-c602-2650018098c1"
      },
      "outputs": [
        {
          "output_type": "execute_result",
          "data": {
            "text/html": [
              "\n",
              "  <div id=\"df-81edfed2-3838-4c54-a4b0-30f1738ef5c4\">\n",
              "    <div class=\"colab-df-container\">\n",
              "      <div>\n",
              "<style scoped>\n",
              "    .dataframe tbody tr th:only-of-type {\n",
              "        vertical-align: middle;\n",
              "    }\n",
              "\n",
              "    .dataframe tbody tr th {\n",
              "        vertical-align: top;\n",
              "    }\n",
              "\n",
              "    .dataframe thead th {\n",
              "        text-align: right;\n",
              "    }\n",
              "</style>\n",
              "<table border=\"1\" class=\"dataframe\">\n",
              "  <thead>\n",
              "    <tr style=\"text-align: right;\">\n",
              "      <th>asins</th>\n",
              "      <th>B00IOY8XWQ</th>\n",
              "      <th>B00IOYAM4I</th>\n",
              "      <th>B00QFQRELG</th>\n",
              "      <th>B00REQKWGA</th>\n",
              "      <th>B00VINDBJK</th>\n",
              "      <th>B00ZV9PXP2</th>\n",
              "      <th>B010CEHQTG</th>\n",
              "      <th>B017JG41PC</th>\n",
              "      <th>B0189XYY0Q</th>\n",
              "      <th>B018Y224PY</th>\n",
              "      <th>B018Y225IA</th>\n",
              "      <th>B018Y22BI4</th>\n",
              "      <th>B018Y22C2Y</th>\n",
              "      <th>B018Y23MNM</th>\n",
              "      <th>B01ACEKAJY</th>\n",
              "      <th>B01AHB9C1E</th>\n",
              "      <th>B01AHB9CN2</th>\n",
              "      <th>B01AHB9CYG</th>\n",
              "      <th>B01AHBBG04</th>\n",
              "      <th>B01AHBDCKQ</th>\n",
              "      <th>B01BH83OOM</th>\n",
              "      <th>B01J24C0TI</th>\n",
              "      <th>B01N32NCPM</th>\n",
              "      <th>B06XB29FPF</th>\n",
              "    </tr>\n",
              "    <tr>\n",
              "      <th>id</th>\n",
              "      <th></th>\n",
              "      <th></th>\n",
              "      <th></th>\n",
              "      <th></th>\n",
              "      <th></th>\n",
              "      <th></th>\n",
              "      <th></th>\n",
              "      <th></th>\n",
              "      <th></th>\n",
              "      <th></th>\n",
              "      <th></th>\n",
              "      <th></th>\n",
              "      <th></th>\n",
              "      <th></th>\n",
              "      <th></th>\n",
              "      <th></th>\n",
              "      <th></th>\n",
              "      <th></th>\n",
              "      <th></th>\n",
              "      <th></th>\n",
              "      <th></th>\n",
              "      <th></th>\n",
              "      <th></th>\n",
              "      <th></th>\n",
              "    </tr>\n",
              "  </thead>\n",
              "  <tbody>\n",
              "    <tr>\n",
              "      <th>AV-XeQLWuC1rwyj_gbP5</th>\n",
              "      <td>0.0</td>\n",
              "      <td>0.000000</td>\n",
              "      <td>0.000000</td>\n",
              "      <td>0.0</td>\n",
              "      <td>0.0</td>\n",
              "      <td>0.0</td>\n",
              "      <td>0.0</td>\n",
              "      <td>0.0</td>\n",
              "      <td>0.0</td>\n",
              "      <td>0.0</td>\n",
              "      <td>0.0</td>\n",
              "      <td>0.000000</td>\n",
              "      <td>0.0</td>\n",
              "      <td>0.0</td>\n",
              "      <td>0.0</td>\n",
              "      <td>0.0</td>\n",
              "      <td>0.0</td>\n",
              "      <td>0.0</td>\n",
              "      <td>0.0</td>\n",
              "      <td>0.0</td>\n",
              "      <td>0.000000</td>\n",
              "      <td>0.0</td>\n",
              "      <td>5</td>\n",
              "      <td>0.0</td>\n",
              "    </tr>\n",
              "    <tr>\n",
              "      <th>AVpfIfGA1cnluZ0-emyp</th>\n",
              "      <td>0.0</td>\n",
              "      <td>0.000000</td>\n",
              "      <td>4.863636</td>\n",
              "      <td>0.0</td>\n",
              "      <td>0.0</td>\n",
              "      <td>0.0</td>\n",
              "      <td>0.0</td>\n",
              "      <td>0.0</td>\n",
              "      <td>0.0</td>\n",
              "      <td>0.0</td>\n",
              "      <td>0.0</td>\n",
              "      <td>0.000000</td>\n",
              "      <td>0.0</td>\n",
              "      <td>0.0</td>\n",
              "      <td>0.0</td>\n",
              "      <td>0.0</td>\n",
              "      <td>0.0</td>\n",
              "      <td>0.0</td>\n",
              "      <td>0.0</td>\n",
              "      <td>0.0</td>\n",
              "      <td>0.000000</td>\n",
              "      <td>0.0</td>\n",
              "      <td>0</td>\n",
              "      <td>0.0</td>\n",
              "    </tr>\n",
              "    <tr>\n",
              "      <th>AVpfpK8KLJeJML43BCuD</th>\n",
              "      <td>0.0</td>\n",
              "      <td>0.000000</td>\n",
              "      <td>0.000000</td>\n",
              "      <td>0.0</td>\n",
              "      <td>0.0</td>\n",
              "      <td>0.0</td>\n",
              "      <td>0.0</td>\n",
              "      <td>0.0</td>\n",
              "      <td>0.0</td>\n",
              "      <td>0.0</td>\n",
              "      <td>0.0</td>\n",
              "      <td>0.000000</td>\n",
              "      <td>0.0</td>\n",
              "      <td>0.0</td>\n",
              "      <td>0.0</td>\n",
              "      <td>0.0</td>\n",
              "      <td>0.0</td>\n",
              "      <td>0.0</td>\n",
              "      <td>0.0</td>\n",
              "      <td>0.0</td>\n",
              "      <td>4.506667</td>\n",
              "      <td>0.0</td>\n",
              "      <td>0</td>\n",
              "      <td>0.0</td>\n",
              "    </tr>\n",
              "    <tr>\n",
              "      <th>AVpftoij1cnluZ0-p5n2</th>\n",
              "      <td>0.0</td>\n",
              "      <td>4.818182</td>\n",
              "      <td>0.000000</td>\n",
              "      <td>0.0</td>\n",
              "      <td>0.0</td>\n",
              "      <td>0.0</td>\n",
              "      <td>0.0</td>\n",
              "      <td>0.0</td>\n",
              "      <td>0.0</td>\n",
              "      <td>0.0</td>\n",
              "      <td>0.0</td>\n",
              "      <td>0.000000</td>\n",
              "      <td>0.0</td>\n",
              "      <td>0.0</td>\n",
              "      <td>0.0</td>\n",
              "      <td>0.0</td>\n",
              "      <td>0.0</td>\n",
              "      <td>0.0</td>\n",
              "      <td>0.0</td>\n",
              "      <td>0.0</td>\n",
              "      <td>0.000000</td>\n",
              "      <td>0.0</td>\n",
              "      <td>0</td>\n",
              "      <td>0.0</td>\n",
              "    </tr>\n",
              "    <tr>\n",
              "      <th>AVpgdkC8ilAPnD_xsvyi</th>\n",
              "      <td>0.0</td>\n",
              "      <td>0.000000</td>\n",
              "      <td>0.000000</td>\n",
              "      <td>0.0</td>\n",
              "      <td>0.0</td>\n",
              "      <td>0.0</td>\n",
              "      <td>0.0</td>\n",
              "      <td>0.0</td>\n",
              "      <td>0.0</td>\n",
              "      <td>0.0</td>\n",
              "      <td>0.0</td>\n",
              "      <td>4.460916</td>\n",
              "      <td>0.0</td>\n",
              "      <td>0.0</td>\n",
              "      <td>0.0</td>\n",
              "      <td>0.0</td>\n",
              "      <td>0.0</td>\n",
              "      <td>0.0</td>\n",
              "      <td>0.0</td>\n",
              "      <td>0.0</td>\n",
              "      <td>0.000000</td>\n",
              "      <td>0.0</td>\n",
              "      <td>0</td>\n",
              "      <td>0.0</td>\n",
              "    </tr>\n",
              "  </tbody>\n",
              "</table>\n",
              "</div>\n",
              "      <button class=\"colab-df-convert\" onclick=\"convertToInteractive('df-81edfed2-3838-4c54-a4b0-30f1738ef5c4')\"\n",
              "              title=\"Convert this dataframe to an interactive table.\"\n",
              "              style=\"display:none;\">\n",
              "        \n",
              "  <svg xmlns=\"http://www.w3.org/2000/svg\" height=\"24px\"viewBox=\"0 0 24 24\"\n",
              "       width=\"24px\">\n",
              "    <path d=\"M0 0h24v24H0V0z\" fill=\"none\"/>\n",
              "    <path d=\"M18.56 5.44l.94 2.06.94-2.06 2.06-.94-2.06-.94-.94-2.06-.94 2.06-2.06.94zm-11 1L8.5 8.5l.94-2.06 2.06-.94-2.06-.94L8.5 2.5l-.94 2.06-2.06.94zm10 10l.94 2.06.94-2.06 2.06-.94-2.06-.94-.94-2.06-.94 2.06-2.06.94z\"/><path d=\"M17.41 7.96l-1.37-1.37c-.4-.4-.92-.59-1.43-.59-.52 0-1.04.2-1.43.59L10.3 9.45l-7.72 7.72c-.78.78-.78 2.05 0 2.83L4 21.41c.39.39.9.59 1.41.59.51 0 1.02-.2 1.41-.59l7.78-7.78 2.81-2.81c.8-.78.8-2.07 0-2.86zM5.41 20L4 18.59l7.72-7.72 1.47 1.35L5.41 20z\"/>\n",
              "  </svg>\n",
              "      </button>\n",
              "      \n",
              "  <style>\n",
              "    .colab-df-container {\n",
              "      display:flex;\n",
              "      flex-wrap:wrap;\n",
              "      gap: 12px;\n",
              "    }\n",
              "\n",
              "    .colab-df-convert {\n",
              "      background-color: #E8F0FE;\n",
              "      border: none;\n",
              "      border-radius: 50%;\n",
              "      cursor: pointer;\n",
              "      display: none;\n",
              "      fill: #1967D2;\n",
              "      height: 32px;\n",
              "      padding: 0 0 0 0;\n",
              "      width: 32px;\n",
              "    }\n",
              "\n",
              "    .colab-df-convert:hover {\n",
              "      background-color: #E2EBFA;\n",
              "      box-shadow: 0px 1px 2px rgba(60, 64, 67, 0.3), 0px 1px 3px 1px rgba(60, 64, 67, 0.15);\n",
              "      fill: #174EA6;\n",
              "    }\n",
              "\n",
              "    [theme=dark] .colab-df-convert {\n",
              "      background-color: #3B4455;\n",
              "      fill: #D2E3FC;\n",
              "    }\n",
              "\n",
              "    [theme=dark] .colab-df-convert:hover {\n",
              "      background-color: #434B5C;\n",
              "      box-shadow: 0px 1px 3px 1px rgba(0, 0, 0, 0.15);\n",
              "      filter: drop-shadow(0px 1px 2px rgba(0, 0, 0, 0.3));\n",
              "      fill: #FFFFFF;\n",
              "    }\n",
              "  </style>\n",
              "\n",
              "      <script>\n",
              "        const buttonEl =\n",
              "          document.querySelector('#df-81edfed2-3838-4c54-a4b0-30f1738ef5c4 button.colab-df-convert');\n",
              "        buttonEl.style.display =\n",
              "          google.colab.kernel.accessAllowed ? 'block' : 'none';\n",
              "\n",
              "        async function convertToInteractive(key) {\n",
              "          const element = document.querySelector('#df-81edfed2-3838-4c54-a4b0-30f1738ef5c4');\n",
              "          const dataTable =\n",
              "            await google.colab.kernel.invokeFunction('convertToInteractive',\n",
              "                                                     [key], {});\n",
              "          if (!dataTable) return;\n",
              "\n",
              "          const docLinkHtml = 'Like what you see? Visit the ' +\n",
              "            '<a target=\"_blank\" href=https://colab.research.google.com/notebooks/data_table.ipynb>data table notebook</a>'\n",
              "            + ' to learn more about interactive tables.';\n",
              "          element.innerHTML = '';\n",
              "          dataTable['output_type'] = 'display_data';\n",
              "          await google.colab.output.renderOutput(dataTable, element);\n",
              "          const docLink = document.createElement('div');\n",
              "          docLink.innerHTML = docLinkHtml;\n",
              "          element.appendChild(docLink);\n",
              "        }\n",
              "      </script>\n",
              "    </div>\n",
              "  </div>\n",
              "  "
            ],
            "text/plain": [
              "asins                 B00IOY8XWQ  B00IOYAM4I  ...  B01N32NCPM  B06XB29FPF\n",
              "id                                            ...                        \n",
              "AV-XeQLWuC1rwyj_gbP5         0.0    0.000000  ...           5         0.0\n",
              "AVpfIfGA1cnluZ0-emyp         0.0    0.000000  ...           0         0.0\n",
              "AVpfpK8KLJeJML43BCuD         0.0    0.000000  ...           0         0.0\n",
              "AVpftoij1cnluZ0-p5n2         0.0    4.818182  ...           0         0.0\n",
              "AVpgdkC8ilAPnD_xsvyi         0.0    0.000000  ...           0         0.0\n",
              "\n",
              "[5 rows x 24 columns]"
            ]
          },
          "metadata": {},
          "execution_count": 23
        }
      ],
      "source": [
        "dfm = datas.pivot_table(values='reviews.rating', index='id', columns='asins', fill_value=0)\n",
        "dfm.head()"
      ]
    },
    {
      "cell_type": "code",
      "execution_count": null,
      "metadata": {
        "id": "Nob_PZOMaHAH"
      },
      "outputs": [],
      "source": [
        "X = dfm.T"
      ]
    },
    {
      "cell_type": "code",
      "source": [
        "X.head()"
      ],
      "metadata": {
        "colab": {
          "base_uri": "https://localhost:8080/",
          "height": 319
        },
        "id": "IehkTo_HcdhC",
        "outputId": "2b3a0eb5-1055-4798-89fb-57b862d03d22"
      },
      "execution_count": null,
      "outputs": [
        {
          "output_type": "execute_result",
          "data": {
            "text/html": [
              "\n",
              "  <div id=\"df-3b097783-894e-4d0b-992c-bb0d6a9fd4ac\">\n",
              "    <div class=\"colab-df-container\">\n",
              "      <div>\n",
              "<style scoped>\n",
              "    .dataframe tbody tr th:only-of-type {\n",
              "        vertical-align: middle;\n",
              "    }\n",
              "\n",
              "    .dataframe tbody tr th {\n",
              "        vertical-align: top;\n",
              "    }\n",
              "\n",
              "    .dataframe thead th {\n",
              "        text-align: right;\n",
              "    }\n",
              "</style>\n",
              "<table border=\"1\" class=\"dataframe\">\n",
              "  <thead>\n",
              "    <tr style=\"text-align: right;\">\n",
              "      <th>id</th>\n",
              "      <th>AV-XeQLWuC1rwyj_gbP5</th>\n",
              "      <th>AVpfIfGA1cnluZ0-emyp</th>\n",
              "      <th>AVpfpK8KLJeJML43BCuD</th>\n",
              "      <th>AVpftoij1cnluZ0-p5n2</th>\n",
              "      <th>AVpgdkC8ilAPnD_xsvyi</th>\n",
              "      <th>AVph0EeEilAPnD_x9myq</th>\n",
              "      <th>AVphPmHuilAPnD_x3E5h</th>\n",
              "      <th>AVpidLjVilAPnD_xEVpI</th>\n",
              "      <th>AVpjEN4jLJeJML43rpUe</th>\n",
              "      <th>AVqVGWLKnnc1JgDc3jF1</th>\n",
              "      <th>AVqVGZN9QMlgsOJE6eUZ</th>\n",
              "      <th>AVqVGZNvQMlgsOJE6eUY</th>\n",
              "      <th>AVqVGZO3nnc1JgDc3jGK</th>\n",
              "      <th>AVqVGZSEQMlgsOJE6eUc</th>\n",
              "      <th>AVqkIdZiv8e3D1O-leaJ</th>\n",
              "      <th>AVqkIh8WQMlgsOJE6fu-</th>\n",
              "      <th>AVqkIh9HQMlgsOJE6fu_</th>\n",
              "      <th>AVqkIhkhv8e3D1O-lebZ</th>\n",
              "      <th>AVqkIhwDv8e3D1O-lebb</th>\n",
              "      <th>AVqkIiKWnnc1JgDc3khH</th>\n",
              "      <th>AVqkIj9snnc1JgDc3khU</th>\n",
              "      <th>AWFUWc8THh53nbDRF6YO</th>\n",
              "      <th>AWK8z0pOIwln0LfXlSxH</th>\n",
              "      <th>AWMjT0WguC1rwyj_rFh3</th>\n",
              "    </tr>\n",
              "    <tr>\n",
              "      <th>asins</th>\n",
              "      <th></th>\n",
              "      <th></th>\n",
              "      <th></th>\n",
              "      <th></th>\n",
              "      <th></th>\n",
              "      <th></th>\n",
              "      <th></th>\n",
              "      <th></th>\n",
              "      <th></th>\n",
              "      <th></th>\n",
              "      <th></th>\n",
              "      <th></th>\n",
              "      <th></th>\n",
              "      <th></th>\n",
              "      <th></th>\n",
              "      <th></th>\n",
              "      <th></th>\n",
              "      <th></th>\n",
              "      <th></th>\n",
              "      <th></th>\n",
              "      <th></th>\n",
              "      <th></th>\n",
              "      <th></th>\n",
              "      <th></th>\n",
              "    </tr>\n",
              "  </thead>\n",
              "  <tbody>\n",
              "    <tr>\n",
              "      <th>B00IOY8XWQ</th>\n",
              "      <td>0.0</td>\n",
              "      <td>0.000000</td>\n",
              "      <td>0.0</td>\n",
              "      <td>0.000000</td>\n",
              "      <td>0.0</td>\n",
              "      <td>0.0</td>\n",
              "      <td>4.646341</td>\n",
              "      <td>0.0</td>\n",
              "      <td>0.0</td>\n",
              "      <td>0.0</td>\n",
              "      <td>0.000000</td>\n",
              "      <td>0.0</td>\n",
              "      <td>0.000000</td>\n",
              "      <td>0.0</td>\n",
              "      <td>0.0</td>\n",
              "      <td>0.0</td>\n",
              "      <td>0.0</td>\n",
              "      <td>0.0</td>\n",
              "      <td>0.0</td>\n",
              "      <td>0.0</td>\n",
              "      <td>0.0</td>\n",
              "      <td>0.0</td>\n",
              "      <td>0.0</td>\n",
              "      <td>0.0</td>\n",
              "    </tr>\n",
              "    <tr>\n",
              "      <th>B00IOYAM4I</th>\n",
              "      <td>0.0</td>\n",
              "      <td>0.000000</td>\n",
              "      <td>0.0</td>\n",
              "      <td>4.818182</td>\n",
              "      <td>0.0</td>\n",
              "      <td>0.0</td>\n",
              "      <td>0.000000</td>\n",
              "      <td>0.0</td>\n",
              "      <td>0.0</td>\n",
              "      <td>0.0</td>\n",
              "      <td>0.000000</td>\n",
              "      <td>0.0</td>\n",
              "      <td>0.000000</td>\n",
              "      <td>0.0</td>\n",
              "      <td>0.0</td>\n",
              "      <td>0.0</td>\n",
              "      <td>0.0</td>\n",
              "      <td>0.0</td>\n",
              "      <td>0.0</td>\n",
              "      <td>0.0</td>\n",
              "      <td>0.0</td>\n",
              "      <td>0.0</td>\n",
              "      <td>0.0</td>\n",
              "      <td>0.0</td>\n",
              "    </tr>\n",
              "    <tr>\n",
              "      <th>B00QFQRELG</th>\n",
              "      <td>0.0</td>\n",
              "      <td>4.863636</td>\n",
              "      <td>0.0</td>\n",
              "      <td>0.000000</td>\n",
              "      <td>0.0</td>\n",
              "      <td>0.0</td>\n",
              "      <td>0.000000</td>\n",
              "      <td>0.0</td>\n",
              "      <td>0.0</td>\n",
              "      <td>0.0</td>\n",
              "      <td>0.000000</td>\n",
              "      <td>0.0</td>\n",
              "      <td>0.000000</td>\n",
              "      <td>0.0</td>\n",
              "      <td>0.0</td>\n",
              "      <td>0.0</td>\n",
              "      <td>0.0</td>\n",
              "      <td>0.0</td>\n",
              "      <td>0.0</td>\n",
              "      <td>0.0</td>\n",
              "      <td>0.0</td>\n",
              "      <td>0.0</td>\n",
              "      <td>0.0</td>\n",
              "      <td>0.0</td>\n",
              "    </tr>\n",
              "    <tr>\n",
              "      <th>B00REQKWGA</th>\n",
              "      <td>0.0</td>\n",
              "      <td>0.000000</td>\n",
              "      <td>0.0</td>\n",
              "      <td>0.000000</td>\n",
              "      <td>0.0</td>\n",
              "      <td>0.0</td>\n",
              "      <td>0.000000</td>\n",
              "      <td>0.0</td>\n",
              "      <td>0.0</td>\n",
              "      <td>0.0</td>\n",
              "      <td>4.820513</td>\n",
              "      <td>0.0</td>\n",
              "      <td>0.000000</td>\n",
              "      <td>0.0</td>\n",
              "      <td>0.0</td>\n",
              "      <td>0.0</td>\n",
              "      <td>0.0</td>\n",
              "      <td>0.0</td>\n",
              "      <td>0.0</td>\n",
              "      <td>0.0</td>\n",
              "      <td>0.0</td>\n",
              "      <td>0.0</td>\n",
              "      <td>0.0</td>\n",
              "      <td>0.0</td>\n",
              "    </tr>\n",
              "    <tr>\n",
              "      <th>B00VINDBJK</th>\n",
              "      <td>0.0</td>\n",
              "      <td>0.000000</td>\n",
              "      <td>0.0</td>\n",
              "      <td>0.000000</td>\n",
              "      <td>0.0</td>\n",
              "      <td>0.0</td>\n",
              "      <td>0.000000</td>\n",
              "      <td>0.0</td>\n",
              "      <td>0.0</td>\n",
              "      <td>0.0</td>\n",
              "      <td>0.000000</td>\n",
              "      <td>0.0</td>\n",
              "      <td>4.666667</td>\n",
              "      <td>0.0</td>\n",
              "      <td>0.0</td>\n",
              "      <td>0.0</td>\n",
              "      <td>0.0</td>\n",
              "      <td>0.0</td>\n",
              "      <td>0.0</td>\n",
              "      <td>0.0</td>\n",
              "      <td>0.0</td>\n",
              "      <td>0.0</td>\n",
              "      <td>0.0</td>\n",
              "      <td>0.0</td>\n",
              "    </tr>\n",
              "  </tbody>\n",
              "</table>\n",
              "</div>\n",
              "      <button class=\"colab-df-convert\" onclick=\"convertToInteractive('df-3b097783-894e-4d0b-992c-bb0d6a9fd4ac')\"\n",
              "              title=\"Convert this dataframe to an interactive table.\"\n",
              "              style=\"display:none;\">\n",
              "        \n",
              "  <svg xmlns=\"http://www.w3.org/2000/svg\" height=\"24px\"viewBox=\"0 0 24 24\"\n",
              "       width=\"24px\">\n",
              "    <path d=\"M0 0h24v24H0V0z\" fill=\"none\"/>\n",
              "    <path d=\"M18.56 5.44l.94 2.06.94-2.06 2.06-.94-2.06-.94-.94-2.06-.94 2.06-2.06.94zm-11 1L8.5 8.5l.94-2.06 2.06-.94-2.06-.94L8.5 2.5l-.94 2.06-2.06.94zm10 10l.94 2.06.94-2.06 2.06-.94-2.06-.94-.94-2.06-.94 2.06-2.06.94z\"/><path d=\"M17.41 7.96l-1.37-1.37c-.4-.4-.92-.59-1.43-.59-.52 0-1.04.2-1.43.59L10.3 9.45l-7.72 7.72c-.78.78-.78 2.05 0 2.83L4 21.41c.39.39.9.59 1.41.59.51 0 1.02-.2 1.41-.59l7.78-7.78 2.81-2.81c.8-.78.8-2.07 0-2.86zM5.41 20L4 18.59l7.72-7.72 1.47 1.35L5.41 20z\"/>\n",
              "  </svg>\n",
              "      </button>\n",
              "      \n",
              "  <style>\n",
              "    .colab-df-container {\n",
              "      display:flex;\n",
              "      flex-wrap:wrap;\n",
              "      gap: 12px;\n",
              "    }\n",
              "\n",
              "    .colab-df-convert {\n",
              "      background-color: #E8F0FE;\n",
              "      border: none;\n",
              "      border-radius: 50%;\n",
              "      cursor: pointer;\n",
              "      display: none;\n",
              "      fill: #1967D2;\n",
              "      height: 32px;\n",
              "      padding: 0 0 0 0;\n",
              "      width: 32px;\n",
              "    }\n",
              "\n",
              "    .colab-df-convert:hover {\n",
              "      background-color: #E2EBFA;\n",
              "      box-shadow: 0px 1px 2px rgba(60, 64, 67, 0.3), 0px 1px 3px 1px rgba(60, 64, 67, 0.15);\n",
              "      fill: #174EA6;\n",
              "    }\n",
              "\n",
              "    [theme=dark] .colab-df-convert {\n",
              "      background-color: #3B4455;\n",
              "      fill: #D2E3FC;\n",
              "    }\n",
              "\n",
              "    [theme=dark] .colab-df-convert:hover {\n",
              "      background-color: #434B5C;\n",
              "      box-shadow: 0px 1px 3px 1px rgba(0, 0, 0, 0.15);\n",
              "      filter: drop-shadow(0px 1px 2px rgba(0, 0, 0, 0.3));\n",
              "      fill: #FFFFFF;\n",
              "    }\n",
              "  </style>\n",
              "\n",
              "      <script>\n",
              "        const buttonEl =\n",
              "          document.querySelector('#df-3b097783-894e-4d0b-992c-bb0d6a9fd4ac button.colab-df-convert');\n",
              "        buttonEl.style.display =\n",
              "          google.colab.kernel.accessAllowed ? 'block' : 'none';\n",
              "\n",
              "        async function convertToInteractive(key) {\n",
              "          const element = document.querySelector('#df-3b097783-894e-4d0b-992c-bb0d6a9fd4ac');\n",
              "          const dataTable =\n",
              "            await google.colab.kernel.invokeFunction('convertToInteractive',\n",
              "                                                     [key], {});\n",
              "          if (!dataTable) return;\n",
              "\n",
              "          const docLinkHtml = 'Like what you see? Visit the ' +\n",
              "            '<a target=\"_blank\" href=https://colab.research.google.com/notebooks/data_table.ipynb>data table notebook</a>'\n",
              "            + ' to learn more about interactive tables.';\n",
              "          element.innerHTML = '';\n",
              "          dataTable['output_type'] = 'display_data';\n",
              "          await google.colab.output.renderOutput(dataTable, element);\n",
              "          const docLink = document.createElement('div');\n",
              "          docLink.innerHTML = docLinkHtml;\n",
              "          element.appendChild(docLink);\n",
              "        }\n",
              "      </script>\n",
              "    </div>\n",
              "  </div>\n",
              "  "
            ],
            "text/plain": [
              "id          AV-XeQLWuC1rwyj_gbP5  ...  AWMjT0WguC1rwyj_rFh3\n",
              "asins                             ...                      \n",
              "B00IOY8XWQ                   0.0  ...                   0.0\n",
              "B00IOYAM4I                   0.0  ...                   0.0\n",
              "B00QFQRELG                   0.0  ...                   0.0\n",
              "B00REQKWGA                   0.0  ...                   0.0\n",
              "B00VINDBJK                   0.0  ...                   0.0\n",
              "\n",
              "[5 rows x 24 columns]"
            ]
          },
          "metadata": {},
          "execution_count": 25
        }
      ]
    },
    {
      "cell_type": "code",
      "source": [
        "from sklearn.metrics.pairwise import cosine_similarity"
      ],
      "metadata": {
        "id": "xN6ClXqdel8i"
      },
      "execution_count": null,
      "outputs": []
    },
    {
      "cell_type": "code",
      "source": [
        "from sklearn.decomposition import TruncatedSVD\n",
        "SVD = TruncatedSVD(n_components=12, random_state=5)"
      ],
      "metadata": {
        "id": "s2mZF_E9cdkH"
      },
      "execution_count": null,
      "outputs": []
    },
    {
      "cell_type": "code",
      "execution_count": null,
      "metadata": {
        "id": "7YAGF2dsaHAH"
      },
      "outputs": [],
      "source": [
        "matrix = SVD.fit_transform(X)"
      ]
    },
    {
      "cell_type": "code",
      "execution_count": null,
      "metadata": {
        "id": "M2YlKc4KaHAH",
        "colab": {
          "base_uri": "https://localhost:8080/"
        },
        "outputId": "7a747dd6-c9d3-40ab-a0d8-dcf1a7b0e89b"
      },
      "outputs": [
        {
          "output_type": "execute_result",
          "data": {
            "text/plain": [
              "(24, 12)"
            ]
          },
          "metadata": {},
          "execution_count": 29
        }
      ],
      "source": [
        "matrix.shape"
      ]
    },
    {
      "cell_type": "markdown",
      "source": [
        " There are different similarity measures, like correlation Pearson and Cosine Similarity. Here, we will work with both similarity measures. Let’s create the correlation matrix:"
      ],
      "metadata": {
        "id": "F3szLkjvftkz"
      }
    },
    {
      "cell_type": "code",
      "source": [
        "corr_mat = np.corrcoef(matrix)\n",
        "corr_mat.shape"
      ],
      "metadata": {
        "colab": {
          "base_uri": "https://localhost:8080/"
        },
        "id": "pd5Hk9vQc_MH",
        "outputId": "10b90851-2c6d-458d-e9a2-5eb9bf469cf0"
      },
      "execution_count": null,
      "outputs": [
        {
          "output_type": "execute_result",
          "data": {
            "text/plain": [
              "(24, 24)"
            ]
          },
          "metadata": {},
          "execution_count": 30
        }
      ]
    },
    {
      "cell_type": "markdown",
      "source": [
        "Cosine Similarity Matrix"
      ],
      "metadata": {
        "id": "fpKjoOXQgJnX"
      }
    },
    {
      "cell_type": "code",
      "source": [
        "cosine_mat=cosine_similarity(matrix)\n",
        "cosine_mat.shape"
      ],
      "metadata": {
        "colab": {
          "base_uri": "https://localhost:8080/"
        },
        "id": "lMRbJY40eu_4",
        "outputId": "33c6e973-94d1-4551-f6b6-d5643fa20d3e"
      },
      "execution_count": null,
      "outputs": [
        {
          "output_type": "execute_result",
          "data": {
            "text/plain": [
              "(24, 24)"
            ]
          },
          "metadata": {},
          "execution_count": 31
        }
      ]
    },
    {
      "cell_type": "code",
      "source": [
        "col_idx_cos = dfm.columns.get_loc(\"B00IOY8XWQ\")\n",
        "cos_specific = cosine_mat[col_idx_cos]\n",
        "pd.DataFrame({'cos_specific':cos_specific, 'Product': dfm.columns})\\\n",
        ".sort_values('cos_specific', ascending=False)\\\n",
        ".head(10)"
      ],
      "metadata": {
        "colab": {
          "base_uri": "https://localhost:8080/",
          "height": 363
        },
        "id": "Uw9hS1DEe2uz",
        "outputId": "a0a7a6f5-e359-4697-c8d4-628c67dc9408"
      },
      "execution_count": null,
      "outputs": [
        {
          "output_type": "execute_result",
          "data": {
            "text/html": [
              "\n",
              "  <div id=\"df-b557a656-347a-455a-bb06-f0b1ab347b15\">\n",
              "    <div class=\"colab-df-container\">\n",
              "      <div>\n",
              "<style scoped>\n",
              "    .dataframe tbody tr th:only-of-type {\n",
              "        vertical-align: middle;\n",
              "    }\n",
              "\n",
              "    .dataframe tbody tr th {\n",
              "        vertical-align: top;\n",
              "    }\n",
              "\n",
              "    .dataframe thead th {\n",
              "        text-align: right;\n",
              "    }\n",
              "</style>\n",
              "<table border=\"1\" class=\"dataframe\">\n",
              "  <thead>\n",
              "    <tr style=\"text-align: right;\">\n",
              "      <th></th>\n",
              "      <th>cos_specific</th>\n",
              "      <th>Product</th>\n",
              "    </tr>\n",
              "  </thead>\n",
              "  <tbody>\n",
              "    <tr>\n",
              "      <th>0</th>\n",
              "      <td>1.000000</td>\n",
              "      <td>B00IOY8XWQ</td>\n",
              "    </tr>\n",
              "    <tr>\n",
              "      <th>9</th>\n",
              "      <td>0.496218</td>\n",
              "      <td>B018Y224PY</td>\n",
              "    </tr>\n",
              "    <tr>\n",
              "      <th>10</th>\n",
              "      <td>0.462775</td>\n",
              "      <td>B018Y225IA</td>\n",
              "    </tr>\n",
              "    <tr>\n",
              "      <th>18</th>\n",
              "      <td>0.194506</td>\n",
              "      <td>B01AHBBG04</td>\n",
              "    </tr>\n",
              "    <tr>\n",
              "      <th>15</th>\n",
              "      <td>0.184244</td>\n",
              "      <td>B01AHB9C1E</td>\n",
              "    </tr>\n",
              "    <tr>\n",
              "      <th>19</th>\n",
              "      <td>0.132826</td>\n",
              "      <td>B01AHBDCKQ</td>\n",
              "    </tr>\n",
              "    <tr>\n",
              "      <th>8</th>\n",
              "      <td>0.077455</td>\n",
              "      <td>B0189XYY0Q</td>\n",
              "    </tr>\n",
              "    <tr>\n",
              "      <th>6</th>\n",
              "      <td>0.060958</td>\n",
              "      <td>B010CEHQTG</td>\n",
              "    </tr>\n",
              "    <tr>\n",
              "      <th>17</th>\n",
              "      <td>0.060696</td>\n",
              "      <td>B01AHB9CYG</td>\n",
              "    </tr>\n",
              "    <tr>\n",
              "      <th>3</th>\n",
              "      <td>0.034423</td>\n",
              "      <td>B00REQKWGA</td>\n",
              "    </tr>\n",
              "  </tbody>\n",
              "</table>\n",
              "</div>\n",
              "      <button class=\"colab-df-convert\" onclick=\"convertToInteractive('df-b557a656-347a-455a-bb06-f0b1ab347b15')\"\n",
              "              title=\"Convert this dataframe to an interactive table.\"\n",
              "              style=\"display:none;\">\n",
              "        \n",
              "  <svg xmlns=\"http://www.w3.org/2000/svg\" height=\"24px\"viewBox=\"0 0 24 24\"\n",
              "       width=\"24px\">\n",
              "    <path d=\"M0 0h24v24H0V0z\" fill=\"none\"/>\n",
              "    <path d=\"M18.56 5.44l.94 2.06.94-2.06 2.06-.94-2.06-.94-.94-2.06-.94 2.06-2.06.94zm-11 1L8.5 8.5l.94-2.06 2.06-.94-2.06-.94L8.5 2.5l-.94 2.06-2.06.94zm10 10l.94 2.06.94-2.06 2.06-.94-2.06-.94-.94-2.06-.94 2.06-2.06.94z\"/><path d=\"M17.41 7.96l-1.37-1.37c-.4-.4-.92-.59-1.43-.59-.52 0-1.04.2-1.43.59L10.3 9.45l-7.72 7.72c-.78.78-.78 2.05 0 2.83L4 21.41c.39.39.9.59 1.41.59.51 0 1.02-.2 1.41-.59l7.78-7.78 2.81-2.81c.8-.78.8-2.07 0-2.86zM5.41 20L4 18.59l7.72-7.72 1.47 1.35L5.41 20z\"/>\n",
              "  </svg>\n",
              "      </button>\n",
              "      \n",
              "  <style>\n",
              "    .colab-df-container {\n",
              "      display:flex;\n",
              "      flex-wrap:wrap;\n",
              "      gap: 12px;\n",
              "    }\n",
              "\n",
              "    .colab-df-convert {\n",
              "      background-color: #E8F0FE;\n",
              "      border: none;\n",
              "      border-radius: 50%;\n",
              "      cursor: pointer;\n",
              "      display: none;\n",
              "      fill: #1967D2;\n",
              "      height: 32px;\n",
              "      padding: 0 0 0 0;\n",
              "      width: 32px;\n",
              "    }\n",
              "\n",
              "    .colab-df-convert:hover {\n",
              "      background-color: #E2EBFA;\n",
              "      box-shadow: 0px 1px 2px rgba(60, 64, 67, 0.3), 0px 1px 3px 1px rgba(60, 64, 67, 0.15);\n",
              "      fill: #174EA6;\n",
              "    }\n",
              "\n",
              "    [theme=dark] .colab-df-convert {\n",
              "      background-color: #3B4455;\n",
              "      fill: #D2E3FC;\n",
              "    }\n",
              "\n",
              "    [theme=dark] .colab-df-convert:hover {\n",
              "      background-color: #434B5C;\n",
              "      box-shadow: 0px 1px 3px 1px rgba(0, 0, 0, 0.15);\n",
              "      filter: drop-shadow(0px 1px 2px rgba(0, 0, 0, 0.3));\n",
              "      fill: #FFFFFF;\n",
              "    }\n",
              "  </style>\n",
              "\n",
              "      <script>\n",
              "        const buttonEl =\n",
              "          document.querySelector('#df-b557a656-347a-455a-bb06-f0b1ab347b15 button.colab-df-convert');\n",
              "        buttonEl.style.display =\n",
              "          google.colab.kernel.accessAllowed ? 'block' : 'none';\n",
              "\n",
              "        async function convertToInteractive(key) {\n",
              "          const element = document.querySelector('#df-b557a656-347a-455a-bb06-f0b1ab347b15');\n",
              "          const dataTable =\n",
              "            await google.colab.kernel.invokeFunction('convertToInteractive',\n",
              "                                                     [key], {});\n",
              "          if (!dataTable) return;\n",
              "\n",
              "          const docLinkHtml = 'Like what you see? Visit the ' +\n",
              "            '<a target=\"_blank\" href=https://colab.research.google.com/notebooks/data_table.ipynb>data table notebook</a>'\n",
              "            + ' to learn more about interactive tables.';\n",
              "          element.innerHTML = '';\n",
              "          dataTable['output_type'] = 'display_data';\n",
              "          await google.colab.output.renderOutput(dataTable, element);\n",
              "          const docLink = document.createElement('div');\n",
              "          docLink.innerHTML = docLinkHtml;\n",
              "          element.appendChild(docLink);\n",
              "        }\n",
              "      </script>\n",
              "    </div>\n",
              "  </div>\n",
              "  "
            ],
            "text/plain": [
              "    cos_specific     Product\n",
              "0       1.000000  B00IOY8XWQ\n",
              "9       0.496218  B018Y224PY\n",
              "10      0.462775  B018Y225IA\n",
              "18      0.194506  B01AHBBG04\n",
              "15      0.184244  B01AHB9C1E\n",
              "19      0.132826  B01AHBDCKQ\n",
              "8       0.077455  B0189XYY0Q\n",
              "6       0.060958  B010CEHQTG\n",
              "17      0.060696  B01AHB9CYG\n",
              "3       0.034423  B00REQKWGA"
            ]
          },
          "metadata": {},
          "execution_count": 32
        }
      ]
    },
    {
      "cell_type": "code",
      "source": [
        "col_idx = dfm.columns.get_loc(\"B00QFQRELG\")\n",
        "corr_specific = corr_mat[col_idx]\n",
        "pd.DataFrame({'corr_specific':corr_specific, 'Product': dfm.columns})\\\n",
        ".sort_values('corr_specific', ascending=False)\\\n",
        ".head(10)"
      ],
      "metadata": {
        "colab": {
          "base_uri": "https://localhost:8080/",
          "height": 363
        },
        "id": "YYTsRBi-c_QT",
        "outputId": "6d797ead-c1ec-49fd-ecf4-b1bd39b50f67"
      },
      "execution_count": null,
      "outputs": [
        {
          "output_type": "execute_result",
          "data": {
            "text/html": [
              "\n",
              "  <div id=\"df-67db47d5-dc6b-4e69-a61a-7e425841069e\">\n",
              "    <div class=\"colab-df-container\">\n",
              "      <div>\n",
              "<style scoped>\n",
              "    .dataframe tbody tr th:only-of-type {\n",
              "        vertical-align: middle;\n",
              "    }\n",
              "\n",
              "    .dataframe tbody tr th {\n",
              "        vertical-align: top;\n",
              "    }\n",
              "\n",
              "    .dataframe thead th {\n",
              "        text-align: right;\n",
              "    }\n",
              "</style>\n",
              "<table border=\"1\" class=\"dataframe\">\n",
              "  <thead>\n",
              "    <tr style=\"text-align: right;\">\n",
              "      <th></th>\n",
              "      <th>corr_specific</th>\n",
              "      <th>Product</th>\n",
              "    </tr>\n",
              "  </thead>\n",
              "  <tbody>\n",
              "    <tr>\n",
              "      <th>2</th>\n",
              "      <td>1.000000</td>\n",
              "      <td>B00QFQRELG</td>\n",
              "    </tr>\n",
              "    <tr>\n",
              "      <th>20</th>\n",
              "      <td>0.552275</td>\n",
              "      <td>B01BH83OOM</td>\n",
              "    </tr>\n",
              "    <tr>\n",
              "      <th>15</th>\n",
              "      <td>0.517304</td>\n",
              "      <td>B01AHB9C1E</td>\n",
              "    </tr>\n",
              "    <tr>\n",
              "      <th>7</th>\n",
              "      <td>0.392929</td>\n",
              "      <td>B017JG41PC</td>\n",
              "    </tr>\n",
              "    <tr>\n",
              "      <th>12</th>\n",
              "      <td>0.382527</td>\n",
              "      <td>B018Y22C2Y</td>\n",
              "    </tr>\n",
              "    <tr>\n",
              "      <th>9</th>\n",
              "      <td>0.051749</td>\n",
              "      <td>B018Y224PY</td>\n",
              "    </tr>\n",
              "    <tr>\n",
              "      <th>3</th>\n",
              "      <td>-0.008750</td>\n",
              "      <td>B00REQKWGA</td>\n",
              "    </tr>\n",
              "    <tr>\n",
              "      <th>0</th>\n",
              "      <td>-0.010296</td>\n",
              "      <td>B00IOY8XWQ</td>\n",
              "    </tr>\n",
              "    <tr>\n",
              "      <th>6</th>\n",
              "      <td>-0.012026</td>\n",
              "      <td>B010CEHQTG</td>\n",
              "    </tr>\n",
              "    <tr>\n",
              "      <th>18</th>\n",
              "      <td>-0.039434</td>\n",
              "      <td>B01AHBBG04</td>\n",
              "    </tr>\n",
              "  </tbody>\n",
              "</table>\n",
              "</div>\n",
              "      <button class=\"colab-df-convert\" onclick=\"convertToInteractive('df-67db47d5-dc6b-4e69-a61a-7e425841069e')\"\n",
              "              title=\"Convert this dataframe to an interactive table.\"\n",
              "              style=\"display:none;\">\n",
              "        \n",
              "  <svg xmlns=\"http://www.w3.org/2000/svg\" height=\"24px\"viewBox=\"0 0 24 24\"\n",
              "       width=\"24px\">\n",
              "    <path d=\"M0 0h24v24H0V0z\" fill=\"none\"/>\n",
              "    <path d=\"M18.56 5.44l.94 2.06.94-2.06 2.06-.94-2.06-.94-.94-2.06-.94 2.06-2.06.94zm-11 1L8.5 8.5l.94-2.06 2.06-.94-2.06-.94L8.5 2.5l-.94 2.06-2.06.94zm10 10l.94 2.06.94-2.06 2.06-.94-2.06-.94-.94-2.06-.94 2.06-2.06.94z\"/><path d=\"M17.41 7.96l-1.37-1.37c-.4-.4-.92-.59-1.43-.59-.52 0-1.04.2-1.43.59L10.3 9.45l-7.72 7.72c-.78.78-.78 2.05 0 2.83L4 21.41c.39.39.9.59 1.41.59.51 0 1.02-.2 1.41-.59l7.78-7.78 2.81-2.81c.8-.78.8-2.07 0-2.86zM5.41 20L4 18.59l7.72-7.72 1.47 1.35L5.41 20z\"/>\n",
              "  </svg>\n",
              "      </button>\n",
              "      \n",
              "  <style>\n",
              "    .colab-df-container {\n",
              "      display:flex;\n",
              "      flex-wrap:wrap;\n",
              "      gap: 12px;\n",
              "    }\n",
              "\n",
              "    .colab-df-convert {\n",
              "      background-color: #E8F0FE;\n",
              "      border: none;\n",
              "      border-radius: 50%;\n",
              "      cursor: pointer;\n",
              "      display: none;\n",
              "      fill: #1967D2;\n",
              "      height: 32px;\n",
              "      padding: 0 0 0 0;\n",
              "      width: 32px;\n",
              "    }\n",
              "\n",
              "    .colab-df-convert:hover {\n",
              "      background-color: #E2EBFA;\n",
              "      box-shadow: 0px 1px 2px rgba(60, 64, 67, 0.3), 0px 1px 3px 1px rgba(60, 64, 67, 0.15);\n",
              "      fill: #174EA6;\n",
              "    }\n",
              "\n",
              "    [theme=dark] .colab-df-convert {\n",
              "      background-color: #3B4455;\n",
              "      fill: #D2E3FC;\n",
              "    }\n",
              "\n",
              "    [theme=dark] .colab-df-convert:hover {\n",
              "      background-color: #434B5C;\n",
              "      box-shadow: 0px 1px 3px 1px rgba(0, 0, 0, 0.15);\n",
              "      filter: drop-shadow(0px 1px 2px rgba(0, 0, 0, 0.3));\n",
              "      fill: #FFFFFF;\n",
              "    }\n",
              "  </style>\n",
              "\n",
              "      <script>\n",
              "        const buttonEl =\n",
              "          document.querySelector('#df-67db47d5-dc6b-4e69-a61a-7e425841069e button.colab-df-convert');\n",
              "        buttonEl.style.display =\n",
              "          google.colab.kernel.accessAllowed ? 'block' : 'none';\n",
              "\n",
              "        async function convertToInteractive(key) {\n",
              "          const element = document.querySelector('#df-67db47d5-dc6b-4e69-a61a-7e425841069e');\n",
              "          const dataTable =\n",
              "            await google.colab.kernel.invokeFunction('convertToInteractive',\n",
              "                                                     [key], {});\n",
              "          if (!dataTable) return;\n",
              "\n",
              "          const docLinkHtml = 'Like what you see? Visit the ' +\n",
              "            '<a target=\"_blank\" href=https://colab.research.google.com/notebooks/data_table.ipynb>data table notebook</a>'\n",
              "            + ' to learn more about interactive tables.';\n",
              "          element.innerHTML = '';\n",
              "          dataTable['output_type'] = 'display_data';\n",
              "          await google.colab.output.renderOutput(dataTable, element);\n",
              "          const docLink = document.createElement('div');\n",
              "          docLink.innerHTML = docLinkHtml;\n",
              "          element.appendChild(docLink);\n",
              "        }\n",
              "      </script>\n",
              "    </div>\n",
              "  </div>\n",
              "  "
            ],
            "text/plain": [
              "    corr_specific     Product\n",
              "2        1.000000  B00QFQRELG\n",
              "20       0.552275  B01BH83OOM\n",
              "15       0.517304  B01AHB9C1E\n",
              "7        0.392929  B017JG41PC\n",
              "12       0.382527  B018Y22C2Y\n",
              "9        0.051749  B018Y224PY\n",
              "3       -0.008750  B00REQKWGA\n",
              "0       -0.010296  B00IOY8XWQ\n",
              "6       -0.012026  B010CEHQTG\n",
              "18      -0.039434  B01AHBBG04"
            ]
          },
          "metadata": {},
          "execution_count": 33
        }
      ]
    },
    {
      "cell_type": "markdown",
      "metadata": {
        "id": "tBAl4I94aHAQ"
      },
      "source": [
        "### 3. Content-based Recomendation"
      ]
    },
    {
      "cell_type": "code",
      "execution_count": null,
      "metadata": {
        "id": "_z9xxfV7aHAQ"
      },
      "outputs": [],
      "source": [
        "from sklearn.metrics.pairwise import cosine_similarity\n",
        "from sklearn.metrics import mean_squared_error\n",
        "from sklearn.model_selection import train_test_split\n",
        "from sklearn.feature_extraction.text import TfidfVectorizer\n",
        "from sklearn.metrics.pairwise import linear_kernel\n"
      ]
    },
    {
      "cell_type": "code",
      "execution_count": null,
      "metadata": {
        "id": "G0WeNSRdaHAQ"
      },
      "outputs": [],
      "source": [
        "dt=pd.read_csv('product_reviews_tokped.csv', low_memory=False)"
      ]
    },
    {
      "cell_type": "code",
      "execution_count": null,
      "metadata": {
        "id": "bxPTbks3aHAQ"
      },
      "outputs": [],
      "source": [
        "dt=datas[['reviews.text','name','reviews.rating']]"
      ]
    },
    {
      "cell_type": "code",
      "execution_count": null,
      "metadata": {
        "id": "Iz2637d7aHAR",
        "outputId": "62b77b6f-1e06-4a12-b471-8b9f8fcb12b4",
        "colab": {
          "base_uri": "https://localhost:8080/",
          "height": 467
        }
      },
      "outputs": [
        {
          "output_type": "execute_result",
          "data": {
            "text/html": [
              "\n",
              "  <div id=\"df-20a33933-a8cf-4fda-9c40-6534b2a7466a\">\n",
              "    <div class=\"colab-df-container\">\n",
              "      <div>\n",
              "<style scoped>\n",
              "    .dataframe tbody tr th:only-of-type {\n",
              "        vertical-align: middle;\n",
              "    }\n",
              "\n",
              "    .dataframe tbody tr th {\n",
              "        vertical-align: top;\n",
              "    }\n",
              "\n",
              "    .dataframe thead th {\n",
              "        text-align: right;\n",
              "    }\n",
              "</style>\n",
              "<table border=\"1\" class=\"dataframe\">\n",
              "  <thead>\n",
              "    <tr style=\"text-align: right;\">\n",
              "      <th></th>\n",
              "      <th>reviews.text</th>\n",
              "      <th>name</th>\n",
              "      <th>reviews.rating</th>\n",
              "    </tr>\n",
              "  </thead>\n",
              "  <tbody>\n",
              "    <tr>\n",
              "      <th>1</th>\n",
              "      <td>This kindle is light and easy to use especiall...</td>\n",
              "      <td>Amazon Kindle E-Reader 6\" Wifi (8th Generation...</td>\n",
              "      <td>5</td>\n",
              "    </tr>\n",
              "    <tr>\n",
              "      <th>3</th>\n",
              "      <td>I am 100 happy with my purchase. I caught it o...</td>\n",
              "      <td>Amazon Kindle E-Reader 6\" Wifi (8th Generation...</td>\n",
              "      <td>5</td>\n",
              "    </tr>\n",
              "    <tr>\n",
              "      <th>4</th>\n",
              "      <td>Solid entry level Kindle. Great for kids. Gift...</td>\n",
              "      <td>Amazon Kindle E-Reader 6\" Wifi (8th Generation...</td>\n",
              "      <td>5</td>\n",
              "    </tr>\n",
              "    <tr>\n",
              "      <th>5</th>\n",
              "      <td>This make an excellent ebook reader. Don't exp...</td>\n",
              "      <td>Amazon Kindle E-Reader 6\" Wifi (8th Generation...</td>\n",
              "      <td>5</td>\n",
              "    </tr>\n",
              "    <tr>\n",
              "      <th>6</th>\n",
              "      <td>I ordered this for my daughter, as I have the ...</td>\n",
              "      <td>Amazon Kindle E-Reader 6\" Wifi (8th Generation...</td>\n",
              "      <td>5</td>\n",
              "    </tr>\n",
              "    <tr>\n",
              "      <th>...</th>\n",
              "      <td>...</td>\n",
              "      <td>...</td>\n",
              "      <td>...</td>\n",
              "    </tr>\n",
              "    <tr>\n",
              "      <th>4994</th>\n",
              "      <td>I love this tablet/kindle. I can access email,...</td>\n",
              "      <td>Fire Tablet with Alexa, 7\" Display, 16 GB, Mag...</td>\n",
              "      <td>5</td>\n",
              "    </tr>\n",
              "    <tr>\n",
              "      <th>4995</th>\n",
              "      <td>This is a great tablet for the price. Amazon i...</td>\n",
              "      <td>Fire Tablet with Alexa, 7\" Display, 16 GB, Mag...</td>\n",
              "      <td>5</td>\n",
              "    </tr>\n",
              "    <tr>\n",
              "      <th>4996</th>\n",
              "      <td>This tablet is the perfect size and so easy to...</td>\n",
              "      <td>Fire Tablet with Alexa, 7\" Display, 16 GB, Mag...</td>\n",
              "      <td>5</td>\n",
              "    </tr>\n",
              "    <tr>\n",
              "      <th>4998</th>\n",
              "      <td>I had some thoughts about getting this for a 5...</td>\n",
              "      <td>Fire Tablet with Alexa, 7\" Display, 16 GB, Mag...</td>\n",
              "      <td>5</td>\n",
              "    </tr>\n",
              "    <tr>\n",
              "      <th>4999</th>\n",
              "      <td>this is a steal, have 8 gb model as well.This ...</td>\n",
              "      <td>Fire Tablet with Alexa, 7\" Display, 16 GB, Mag...</td>\n",
              "      <td>5</td>\n",
              "    </tr>\n",
              "  </tbody>\n",
              "</table>\n",
              "<p>3412 rows × 3 columns</p>\n",
              "</div>\n",
              "      <button class=\"colab-df-convert\" onclick=\"convertToInteractive('df-20a33933-a8cf-4fda-9c40-6534b2a7466a')\"\n",
              "              title=\"Convert this dataframe to an interactive table.\"\n",
              "              style=\"display:none;\">\n",
              "        \n",
              "  <svg xmlns=\"http://www.w3.org/2000/svg\" height=\"24px\"viewBox=\"0 0 24 24\"\n",
              "       width=\"24px\">\n",
              "    <path d=\"M0 0h24v24H0V0z\" fill=\"none\"/>\n",
              "    <path d=\"M18.56 5.44l.94 2.06.94-2.06 2.06-.94-2.06-.94-.94-2.06-.94 2.06-2.06.94zm-11 1L8.5 8.5l.94-2.06 2.06-.94-2.06-.94L8.5 2.5l-.94 2.06-2.06.94zm10 10l.94 2.06.94-2.06 2.06-.94-2.06-.94-.94-2.06-.94 2.06-2.06.94z\"/><path d=\"M17.41 7.96l-1.37-1.37c-.4-.4-.92-.59-1.43-.59-.52 0-1.04.2-1.43.59L10.3 9.45l-7.72 7.72c-.78.78-.78 2.05 0 2.83L4 21.41c.39.39.9.59 1.41.59.51 0 1.02-.2 1.41-.59l7.78-7.78 2.81-2.81c.8-.78.8-2.07 0-2.86zM5.41 20L4 18.59l7.72-7.72 1.47 1.35L5.41 20z\"/>\n",
              "  </svg>\n",
              "      </button>\n",
              "      \n",
              "  <style>\n",
              "    .colab-df-container {\n",
              "      display:flex;\n",
              "      flex-wrap:wrap;\n",
              "      gap: 12px;\n",
              "    }\n",
              "\n",
              "    .colab-df-convert {\n",
              "      background-color: #E8F0FE;\n",
              "      border: none;\n",
              "      border-radius: 50%;\n",
              "      cursor: pointer;\n",
              "      display: none;\n",
              "      fill: #1967D2;\n",
              "      height: 32px;\n",
              "      padding: 0 0 0 0;\n",
              "      width: 32px;\n",
              "    }\n",
              "\n",
              "    .colab-df-convert:hover {\n",
              "      background-color: #E2EBFA;\n",
              "      box-shadow: 0px 1px 2px rgba(60, 64, 67, 0.3), 0px 1px 3px 1px rgba(60, 64, 67, 0.15);\n",
              "      fill: #174EA6;\n",
              "    }\n",
              "\n",
              "    [theme=dark] .colab-df-convert {\n",
              "      background-color: #3B4455;\n",
              "      fill: #D2E3FC;\n",
              "    }\n",
              "\n",
              "    [theme=dark] .colab-df-convert:hover {\n",
              "      background-color: #434B5C;\n",
              "      box-shadow: 0px 1px 3px 1px rgba(0, 0, 0, 0.15);\n",
              "      filter: drop-shadow(0px 1px 2px rgba(0, 0, 0, 0.3));\n",
              "      fill: #FFFFFF;\n",
              "    }\n",
              "  </style>\n",
              "\n",
              "      <script>\n",
              "        const buttonEl =\n",
              "          document.querySelector('#df-20a33933-a8cf-4fda-9c40-6534b2a7466a button.colab-df-convert');\n",
              "        buttonEl.style.display =\n",
              "          google.colab.kernel.accessAllowed ? 'block' : 'none';\n",
              "\n",
              "        async function convertToInteractive(key) {\n",
              "          const element = document.querySelector('#df-20a33933-a8cf-4fda-9c40-6534b2a7466a');\n",
              "          const dataTable =\n",
              "            await google.colab.kernel.invokeFunction('convertToInteractive',\n",
              "                                                     [key], {});\n",
              "          if (!dataTable) return;\n",
              "\n",
              "          const docLinkHtml = 'Like what you see? Visit the ' +\n",
              "            '<a target=\"_blank\" href=https://colab.research.google.com/notebooks/data_table.ipynb>data table notebook</a>'\n",
              "            + ' to learn more about interactive tables.';\n",
              "          element.innerHTML = '';\n",
              "          dataTable['output_type'] = 'display_data';\n",
              "          await google.colab.output.renderOutput(dataTable, element);\n",
              "          const docLink = document.createElement('div');\n",
              "          docLink.innerHTML = docLinkHtml;\n",
              "          element.appendChild(docLink);\n",
              "        }\n",
              "      </script>\n",
              "    </div>\n",
              "  </div>\n",
              "  "
            ],
            "text/plain": [
              "                                           reviews.text  ... reviews.rating\n",
              "1     This kindle is light and easy to use especiall...  ...              5\n",
              "3     I am 100 happy with my purchase. I caught it o...  ...              5\n",
              "4     Solid entry level Kindle. Great for kids. Gift...  ...              5\n",
              "5     This make an excellent ebook reader. Don't exp...  ...              5\n",
              "6     I ordered this for my daughter, as I have the ...  ...              5\n",
              "...                                                 ...  ...            ...\n",
              "4994  I love this tablet/kindle. I can access email,...  ...              5\n",
              "4995  This is a great tablet for the price. Amazon i...  ...              5\n",
              "4996  This tablet is the perfect size and so easy to...  ...              5\n",
              "4998  I had some thoughts about getting this for a 5...  ...              5\n",
              "4999  this is a steal, have 8 gb model as well.This ...  ...              5\n",
              "\n",
              "[3412 rows x 3 columns]"
            ]
          },
          "metadata": {},
          "execution_count": 201
        }
      ],
      "source": [
        "dt[dt['reviews.rating'] ==5]"
      ]
    },
    {
      "cell_type": "code",
      "execution_count": null,
      "metadata": {
        "id": "xhYdBLW1aHAR"
      },
      "outputs": [],
      "source": [
        "tfidf = TfidfVectorizer(stop_words=stopwordss)"
      ]
    },
    {
      "cell_type": "code",
      "execution_count": null,
      "metadata": {
        "id": "NcjByfXraHAR"
      },
      "outputs": [],
      "source": [
        "import re\n",
        "import string"
      ]
    },
    {
      "cell_type": "code",
      "execution_count": null,
      "metadata": {
        "id": "k4if7kofaHAS"
      },
      "outputs": [],
      "source": [
        "from stop_words import get_stop_words\n",
        "\n",
        "stopwordss = get_stop_words('english')\n"
      ]
    },
    {
      "cell_type": "code",
      "execution_count": null,
      "metadata": {
        "id": "KOulD6LfaHAS",
        "colab": {
          "base_uri": "https://localhost:8080/"
        },
        "outputId": "695ff57e-00a1-4a0c-bf5a-06fde5c1a572"
      },
      "outputs": [
        {
          "output_type": "stream",
          "name": "stderr",
          "text": [
            "/usr/local/lib/python3.7/dist-packages/ipykernel_launcher.py:5: SettingWithCopyWarning: \n",
            "A value is trying to be set on a copy of a slice from a DataFrame.\n",
            "Try using .loc[row_indexer,col_indexer] = value instead\n",
            "\n",
            "See the caveats in the documentation: https://pandas.pydata.org/pandas-docs/stable/user_guide/indexing.html#returning-a-view-versus-a-copy\n",
            "  \"\"\"\n"
          ]
        }
      ],
      "source": [
        "alphanumeric = lambda x: re.sub('\\w*\\d\\w*', ' ', x)\n",
        "punc_lower = lambda x: re.sub('[%s]' % re.escape(string.punctuation), ' ', x.lower())\n",
        "remove_n = lambda x: re.sub(\"\\n\", \" \", x)\n",
        "remove_non_ascii = lambda x: re.sub(r'[^\\x00-\\x7f]',r' ', x)\n",
        "dt['reviews.text'] = dt['reviews.text'].map(alphanumeric).map(punc_lower).map(remove_n).map(remove_non_ascii)\n",
        "# Removing special characters"
      ]
    },
    {
      "cell_type": "code",
      "execution_count": null,
      "metadata": {
        "id": "edDmDqTNaHAS"
      },
      "outputs": [],
      "source": [
        "dt=dt.reset_index()"
      ]
    },
    {
      "cell_type": "code",
      "execution_count": null,
      "metadata": {
        "id": "ZaemnRAUaHAS",
        "outputId": "a8fb8c3c-4381-4246-bdd6-65affad86c4b",
        "colab": {
          "base_uri": "https://localhost:8080/"
        }
      },
      "outputs": [
        {
          "output_type": "execute_result",
          "data": {
            "text/plain": [
              "0       Amazon Kindle E-Reader 6\" Wifi (8th Generation...\n",
              "1       Amazon Kindle E-Reader 6\" Wifi (8th Generation...\n",
              "2       Amazon Kindle E-Reader 6\" Wifi (8th Generation...\n",
              "3       Amazon Kindle E-Reader 6\" Wifi (8th Generation...\n",
              "4       Amazon Kindle E-Reader 6\" Wifi (8th Generation...\n",
              "                              ...                        \n",
              "4995    Fire Tablet with Alexa, 7\" Display, 16 GB, Mag...\n",
              "4996    Fire Tablet with Alexa, 7\" Display, 16 GB, Mag...\n",
              "4997    Fire Tablet with Alexa, 7\" Display, 16 GB, Mag...\n",
              "4998    Fire Tablet with Alexa, 7\" Display, 16 GB, Mag...\n",
              "4999    Fire Tablet with Alexa, 7\" Display, 16 GB, Mag...\n",
              "Name: name, Length: 4905, dtype: object"
            ]
          },
          "metadata": {},
          "execution_count": 208
        }
      ],
      "source": [
        "dt['name']"
      ]
    },
    {
      "cell_type": "code",
      "execution_count": null,
      "metadata": {
        "id": "W8rfq0y3aHAT",
        "outputId": "85d13883-2b42-4c55-fcb7-fe9e57940960",
        "colab": {
          "base_uri": "https://localhost:8080/"
        }
      },
      "outputs": [
        {
          "output_type": "stream",
          "name": "stdout",
          "text": [
            "Collecting stop-words\n",
            "  Downloading stop-words-2018.7.23.tar.gz (31 kB)\n",
            "Building wheels for collected packages: stop-words\n",
            "  Building wheel for stop-words (setup.py) ... \u001b[?25l\u001b[?25hdone\n",
            "  Created wheel for stop-words: filename=stop_words-2018.7.23-py3-none-any.whl size=32911 sha256=00c04d5f3338980ef8a208abf59dc2bc460c22bff9a33300e879d0135d0b8d02\n",
            "  Stored in directory: /root/.cache/pip/wheels/fb/86/b2/277b10b1ce9f73ce15059bf6975d4547cc4ec3feeb651978e9\n",
            "Successfully built stop-words\n",
            "Installing collected packages: stop-words\n",
            "Successfully installed stop-words-2018.7.23\n"
          ]
        }
      ],
      "source": [
        "!pip install stop-words"
      ]
    },
    {
      "cell_type": "code",
      "execution_count": null,
      "metadata": {
        "id": "ksnQBD7maHAT",
        "outputId": "525bf442-b374-4ebd-c250-1cbc55362b66",
        "colab": {
          "base_uri": "https://localhost:8080/"
        }
      },
      "outputs": [
        {
          "output_type": "stream",
          "name": "stderr",
          "text": [
            "/usr/local/lib/python3.7/dist-packages/sklearn/feature_extraction/text.py:401: UserWarning: Your stop_words may be inconsistent with your preprocessing. Tokenizing the stop words generated tokens ['aren', 'can', 'couldn', 'didn', 'doesn', 'don', 'hadn', 'hasn', 'haven', 'isn', 'let', 'll', 'mustn', 're', 'shan', 'shouldn', 've', 'wasn', 'weren', 'won', 'wouldn'] not in stop_words.\n",
            "  % sorted(inconsistent)\n"
          ]
        },
        {
          "output_type": "execute_result",
          "data": {
            "text/plain": [
              "(4905, 5116)"
            ]
          },
          "metadata": {},
          "execution_count": 211
        }
      ],
      "source": [
        "#Construct the required TF-IDF matrix by applying the fit_transform method on the overview feature\n",
        "overview_matrix = tfidf.fit_transform(dt['reviews.text'])\n",
        "#Output the shape of tfidf_matrix\n",
        "overview_matrix.shape"
      ]
    },
    {
      "cell_type": "code",
      "execution_count": null,
      "metadata": {
        "id": "FISSH2J4aHAT",
        "outputId": "ad684910-f3f1-4679-d2ad-ac7e79937a6e",
        "colab": {
          "base_uri": "https://localhost:8080/"
        }
      },
      "outputs": [
        {
          "output_type": "execute_result",
          "data": {
            "text/plain": [
              "array([[1.        , 0.03833203, 0.02289233, ..., 0.        , 0.        ,\n",
              "        0.        ],\n",
              "       [0.03833203, 1.        , 0.07769981, ..., 0.        , 0.        ,\n",
              "        0.        ],\n",
              "       [0.02289233, 0.07769981, 1.        , ..., 0.        , 0.        ,\n",
              "        0.        ],\n",
              "       ...,\n",
              "       [0.        , 0.        , 0.        , ..., 1.        , 0.        ,\n",
              "        0.        ],\n",
              "       [0.        , 0.        , 0.        , ..., 0.        , 1.        ,\n",
              "        0.        ],\n",
              "       [0.        , 0.        , 0.        , ..., 0.        , 0.        ,\n",
              "        1.        ]])"
            ]
          },
          "metadata": {},
          "execution_count": 212
        }
      ],
      "source": [
        "similarity_matrix = linear_kernel(overview_matrix,overview_matrix)\n",
        "similarity_matrix"
      ]
    },
    {
      "cell_type": "code",
      "execution_count": null,
      "metadata": {
        "id": "Ij6zZQJfaHAU",
        "outputId": "98c59adc-c7d3-4c2e-babe-887d8137e6c8",
        "colab": {
          "base_uri": "https://localhost:8080/"
        }
      },
      "outputs": [
        {
          "output_type": "execute_result",
          "data": {
            "text/plain": [
              "name\n",
              "Amazon Kindle E-Reader 6\" Wifi (8th Generation, 2016)                          0\n",
              "Amazon Kindle E-Reader 6\" Wifi (8th Generation, 2016)                          1\n",
              "Amazon Kindle E-Reader 6\" Wifi (8th Generation, 2016)                          2\n",
              "Amazon Kindle E-Reader 6\" Wifi (8th Generation, 2016)                          3\n",
              "Amazon Kindle E-Reader 6\" Wifi (8th Generation, 2016)                          4\n",
              "                                                                            ... \n",
              "Fire Tablet with Alexa, 7\" Display, 16 GB, Magenta - with Special Offers    4995\n",
              "Fire Tablet with Alexa, 7\" Display, 16 GB, Magenta - with Special Offers    4996\n",
              "Fire Tablet with Alexa, 7\" Display, 16 GB, Magenta - with Special Offers    4997\n",
              "Fire Tablet with Alexa, 7\" Display, 16 GB, Magenta - with Special Offers    4998\n",
              "Fire Tablet with Alexa, 7\" Display, 16 GB, Magenta - with Special Offers    4999\n",
              "Length: 4905, dtype: int64"
            ]
          },
          "metadata": {},
          "execution_count": 213
        }
      ],
      "source": [
        "#movies index mapping\n",
        "mapping = pd.Series(dt.index,index = dt['name'])\n",
        "mapping"
      ]
    },
    {
      "cell_type": "code",
      "execution_count": null,
      "metadata": {
        "id": "sfZRSgDgaHAU",
        "outputId": "80911aa5-7fef-4955-966b-62ec77040515",
        "colab": {
          "base_uri": "https://localhost:8080/"
        }
      },
      "outputs": [
        {
          "output_type": "execute_result",
          "data": {
            "text/plain": [
              "array(['Amazon Kindle E-Reader 6\" Wifi (8th Generation, 2016)',\n",
              "       'Amazon Echo Show Alexa-enabled Bluetooth Speaker with 7\" Screen',\n",
              "       'Amazon Fire TV with 4K Ultra HD and Alexa Voice Remote (Pendant Design) | Streaming Media Player',\n",
              "       'Amazon - Echo Plus w/ Built-In Hub - Silver',\n",
              "       'Amazon 9W PowerFast Official OEM USB Charger and Power Adapter for Fire Tablets and Kindle eReaders',\n",
              "       'Fire Kids Edition Tablet, 7 Display, Wi-Fi, 16 GB, Blue Kid-Proof Case',\n",
              "       'Kindle E-reader - White, 6 Glare-Free Touchscreen Display, Wi-Fi - Includes Special Offers',\n",
              "       'Fire Tablet, 7 Display, Wi-Fi, 16 GB - Includes Special Offers, Black',\n",
              "       'Fire Kids Edition Tablet, 7 Display, Wi-Fi, 16 GB, Green Kid-Proof Case',\n",
              "       'All-New Fire HD 8 Tablet, 8 HD Display, Wi-Fi, 16 GB - Includes Special Offers, Blue',\n",
              "       'All-New Fire HD 8 Tablet, 8 HD Display, Wi-Fi, 32 GB - Includes Special Offers, Blue',\n",
              "       'Amazon Tap - Alexa-Enabled Portable Bluetooth Speaker',\n",
              "       'Fire HD 10 Tablet, 10.1 HD Display, Wi-Fi, 16 GB - Includes Special Offers, Silver Aluminum',\n",
              "       'Kindle Oasis E-reader with Leather Charging Cover - Merlot, 6 High-Resolution Display (300 ppi), Wi-Fi - Includes Special Offers',\n",
              "       'Amazon - Kindle Voyage - 6\" - 4GB - Black',\n",
              "       'All-New Fire HD 8 Tablet, 8\" HD Display, Wi-Fi, 16 GB - Includes Special Offers, Magenta',\n",
              "       'Brand New Amazon Kindle Fire 16gb 7\" Ips Display Tablet Wifi 16 Gb Blue',\n",
              "       'Amazon - Kindle Voyage - 4GB - Wi-Fi + 3G - Black',\n",
              "       'Fire HD 8 Tablet with Alexa, 8\" HD Display, 32 GB, Tangerine - with Special Offers',\n",
              "       'Kindle Oasis E-reader with Leather Charging Cover - Black, 6\" High-Resolution Display (300 ppi), Wi-Fi - Includes Special Offers',\n",
              "       'All-New Fire HD 8 Tablet, 8\" HD Display, Wi-Fi, 32 GB - Includes Special Offers, Black',\n",
              "       'All-New Fire HD 8 Tablet, 8\" HD Display, Wi-Fi, 32 GB - Includes Special Offers, Magenta',\n",
              "       'Fire Tablet with Alexa, 7\" Display, 16 GB, Magenta - with Special Offers'],\n",
              "      dtype=object)"
            ]
          },
          "metadata": {},
          "execution_count": 214
        }
      ],
      "source": [
        "dt['name'].unique()"
      ]
    },
    {
      "cell_type": "code",
      "execution_count": null,
      "metadata": {
        "id": "4y02Fx1naHAU"
      },
      "outputs": [],
      "source": [
        "def recommend_product(inputs):\n",
        "    dt_indes = mapping[inputs]\n",
        "#get similarity values with other movies\n",
        "#similarity_score is the list of index and similarity matrix\n",
        "    similarity_score = list(enumerate(similarity_matrix[dt_indes]))\n",
        "#sort in descending order the similarity score of movie inputted with all the other movies\n",
        "    similarity_score = sorted(similarity_score, key=lambda x: x[1], reverse=True)\n",
        "# Get the scores of the 15 most similar movies. Ignore the first movie.\n",
        "    similarity_score = similarity_score[1:15]\n",
        "#return movie names using the mapping series\n",
        "    indices = [i[0] for i in similarity_score]\n",
        "    return (dt['name'].iloc[indices])"
      ]
    },
    {
      "cell_type": "code",
      "execution_count": null,
      "metadata": {
        "id": "z38PAMq5aHAV",
        "outputId": "8d106b66-7bef-4cc3-c67c-0e41a616b639",
        "colab": {
          "base_uri": "https://localhost:8080/",
          "height": 339
        }
      },
      "outputs": [
        {
          "output_type": "stream",
          "name": "stdout",
          "text": [
            "Rekomendasi Produk berdasarkan review untuk produk : Amazon - Kindle Voyage - 4GB - Wi-Fi + 3G - Black \n"
          ]
        },
        {
          "output_type": "error",
          "ename": "ValueError",
          "evalue": "ignored",
          "traceback": [
            "\u001b[0;31m---------------------------------------------------------------------------\u001b[0m",
            "\u001b[0;31mValueError\u001b[0m                                Traceback (most recent call last)",
            "\u001b[0;32m<ipython-input-218-bb36b8e8f19e>\u001b[0m in \u001b[0;36m<module>\u001b[0;34m()\u001b[0m\n\u001b[1;32m      1\u001b[0m \u001b[0mprint\u001b[0m\u001b[0;34m(\u001b[0m\u001b[0;34m'Rekomendasi Produk berdasarkan review untuk produk : Amazon - Kindle Voyage - 4GB - Wi-Fi + 3G - Black '\u001b[0m\u001b[0;34m)\u001b[0m\u001b[0;34m\u001b[0m\u001b[0;34m\u001b[0m\u001b[0m\n\u001b[0;32m----> 2\u001b[0;31m \u001b[0mrecommend_product\u001b[0m\u001b[0;34m(\u001b[0m\u001b[0;34m'Amazon Kindle E-Reader 6\" Wifi (8th Generation, 2016)'\u001b[0m\u001b[0;34m)\u001b[0m\u001b[0;34m\u001b[0m\u001b[0;34m\u001b[0m\u001b[0m\n\u001b[0m",
            "\u001b[0;32m<ipython-input-215-5db2107f6f76>\u001b[0m in \u001b[0;36mrecommend_product\u001b[0;34m(inputs)\u001b[0m\n\u001b[1;32m      5\u001b[0m     \u001b[0msimilarity_score\u001b[0m \u001b[0;34m=\u001b[0m \u001b[0mlist\u001b[0m\u001b[0;34m(\u001b[0m\u001b[0menumerate\u001b[0m\u001b[0;34m(\u001b[0m\u001b[0msimilarity_matrix\u001b[0m\u001b[0;34m[\u001b[0m\u001b[0mdt_indes\u001b[0m\u001b[0;34m]\u001b[0m\u001b[0;34m)\u001b[0m\u001b[0;34m)\u001b[0m\u001b[0;34m\u001b[0m\u001b[0;34m\u001b[0m\u001b[0m\n\u001b[1;32m      6\u001b[0m \u001b[0;31m#sort in descending order the similarity score of movie inputted with all the other movies\u001b[0m\u001b[0;34m\u001b[0m\u001b[0;34m\u001b[0m\u001b[0;34m\u001b[0m\u001b[0m\n\u001b[0;32m----> 7\u001b[0;31m     \u001b[0msimilarity_score\u001b[0m \u001b[0;34m=\u001b[0m \u001b[0msorted\u001b[0m\u001b[0;34m(\u001b[0m\u001b[0msimilarity_score\u001b[0m\u001b[0;34m,\u001b[0m \u001b[0mkey\u001b[0m\u001b[0;34m=\u001b[0m\u001b[0;32mlambda\u001b[0m \u001b[0mx\u001b[0m\u001b[0;34m:\u001b[0m \u001b[0mx\u001b[0m\u001b[0;34m[\u001b[0m\u001b[0;36m1\u001b[0m\u001b[0;34m]\u001b[0m\u001b[0;34m,\u001b[0m \u001b[0mreverse\u001b[0m\u001b[0;34m=\u001b[0m\u001b[0;32mTrue\u001b[0m\u001b[0;34m)\u001b[0m\u001b[0;34m\u001b[0m\u001b[0;34m\u001b[0m\u001b[0m\n\u001b[0m\u001b[1;32m      8\u001b[0m \u001b[0;31m# Get the scores of the 15 most similar movies. Ignore the first movie.\u001b[0m\u001b[0;34m\u001b[0m\u001b[0;34m\u001b[0m\u001b[0;34m\u001b[0m\u001b[0m\n\u001b[1;32m      9\u001b[0m     \u001b[0msimilarity_score\u001b[0m \u001b[0;34m=\u001b[0m \u001b[0msimilarity_score\u001b[0m\u001b[0;34m[\u001b[0m\u001b[0;36m1\u001b[0m\u001b[0;34m:\u001b[0m\u001b[0;36m15\u001b[0m\u001b[0;34m]\u001b[0m\u001b[0;34m\u001b[0m\u001b[0;34m\u001b[0m\u001b[0m\n",
            "\u001b[0;31mValueError\u001b[0m: The truth value of an array with more than one element is ambiguous. Use a.any() or a.all()"
          ]
        }
      ],
      "source": [
        "print('Rekomendasi Produk berdasarkan review untuk produk : Amazon - Kindle Voyage - 4GB - Wi-Fi + 3G - Black ')\n",
        "recommend_product('Amazon Kindle E-Reader 6\" Wifi (8th Generation, 2016)')"
      ]
    },
    {
      "cell_type": "code",
      "execution_count": null,
      "metadata": {
        "id": "qwcIqD0SaHAV"
      },
      "outputs": [],
      "source": [
        ""
      ]
    },
    {
      "cell_type": "markdown",
      "metadata": {
        "id": "ijx2zLCeaHAZ"
      },
      "source": [
        "### 4. Learning Rank"
      ]
    },
    {
      "cell_type": "code",
      "execution_count": null,
      "metadata": {
        "id": "htA6CyjwaHAZ",
        "colab": {
          "base_uri": "https://localhost:8080/"
        },
        "outputId": "950b2477-d7f4-4897-9ea7-e36ea23cfad7"
      },
      "outputs": [
        {
          "output_type": "stream",
          "name": "stdout",
          "text": [
            "Collecting lightfm\n",
            "  Downloading lightfm-1.16.tar.gz (310 kB)\n",
            "\u001b[?25l\r\u001b[K     |█                               | 10 kB 20.3 MB/s eta 0:00:01\r\u001b[K     |██▏                             | 20 kB 24.6 MB/s eta 0:00:01\r\u001b[K     |███▏                            | 30 kB 17.7 MB/s eta 0:00:01\r\u001b[K     |████▎                           | 40 kB 11.0 MB/s eta 0:00:01\r\u001b[K     |█████▎                          | 51 kB 7.3 MB/s eta 0:00:01\r\u001b[K     |██████▍                         | 61 kB 8.5 MB/s eta 0:00:01\r\u001b[K     |███████▍                        | 71 kB 7.8 MB/s eta 0:00:01\r\u001b[K     |████████▌                       | 81 kB 8.5 MB/s eta 0:00:01\r\u001b[K     |█████████▌                      | 92 kB 9.4 MB/s eta 0:00:01\r\u001b[K     |██████████▋                     | 102 kB 7.9 MB/s eta 0:00:01\r\u001b[K     |███████████▋                    | 112 kB 7.9 MB/s eta 0:00:01\r\u001b[K     |████████████▊                   | 122 kB 7.9 MB/s eta 0:00:01\r\u001b[K     |█████████████▊                  | 133 kB 7.9 MB/s eta 0:00:01\r\u001b[K     |██████████████▉                 | 143 kB 7.9 MB/s eta 0:00:01\r\u001b[K     |███████████████▉                | 153 kB 7.9 MB/s eta 0:00:01\r\u001b[K     |█████████████████               | 163 kB 7.9 MB/s eta 0:00:01\r\u001b[K     |██████████████████              | 174 kB 7.9 MB/s eta 0:00:01\r\u001b[K     |███████████████████             | 184 kB 7.9 MB/s eta 0:00:01\r\u001b[K     |████████████████████            | 194 kB 7.9 MB/s eta 0:00:01\r\u001b[K     |█████████████████████▏          | 204 kB 7.9 MB/s eta 0:00:01\r\u001b[K     |██████████████████████▏         | 215 kB 7.9 MB/s eta 0:00:01\r\u001b[K     |███████████████████████▎        | 225 kB 7.9 MB/s eta 0:00:01\r\u001b[K     |████████████████████████▎       | 235 kB 7.9 MB/s eta 0:00:01\r\u001b[K     |█████████████████████████▍      | 245 kB 7.9 MB/s eta 0:00:01\r\u001b[K     |██████████████████████████▍     | 256 kB 7.9 MB/s eta 0:00:01\r\u001b[K     |███████████████████████████▌    | 266 kB 7.9 MB/s eta 0:00:01\r\u001b[K     |████████████████████████████▌   | 276 kB 7.9 MB/s eta 0:00:01\r\u001b[K     |█████████████████████████████▋  | 286 kB 7.9 MB/s eta 0:00:01\r\u001b[K     |██████████████████████████████▋ | 296 kB 7.9 MB/s eta 0:00:01\r\u001b[K     |███████████████████████████████▊| 307 kB 7.9 MB/s eta 0:00:01\r\u001b[K     |████████████████████████████████| 310 kB 7.9 MB/s \n",
            "\u001b[?25hRequirement already satisfied: numpy in /usr/local/lib/python3.7/dist-packages (from lightfm) (1.21.5)\n",
            "Requirement already satisfied: scipy>=0.17.0 in /usr/local/lib/python3.7/dist-packages (from lightfm) (1.4.1)\n",
            "Requirement already satisfied: requests in /usr/local/lib/python3.7/dist-packages (from lightfm) (2.23.0)\n",
            "Requirement already satisfied: scikit-learn in /usr/local/lib/python3.7/dist-packages (from lightfm) (1.0.2)\n",
            "Requirement already satisfied: urllib3!=1.25.0,!=1.25.1,<1.26,>=1.21.1 in /usr/local/lib/python3.7/dist-packages (from requests->lightfm) (1.24.3)\n",
            "Requirement already satisfied: idna<3,>=2.5 in /usr/local/lib/python3.7/dist-packages (from requests->lightfm) (2.10)\n",
            "Requirement already satisfied: chardet<4,>=3.0.2 in /usr/local/lib/python3.7/dist-packages (from requests->lightfm) (3.0.4)\n",
            "Requirement already satisfied: certifi>=2017.4.17 in /usr/local/lib/python3.7/dist-packages (from requests->lightfm) (2021.10.8)\n",
            "Requirement already satisfied: joblib>=0.11 in /usr/local/lib/python3.7/dist-packages (from scikit-learn->lightfm) (1.1.0)\n",
            "Requirement already satisfied: threadpoolctl>=2.0.0 in /usr/local/lib/python3.7/dist-packages (from scikit-learn->lightfm) (3.1.0)\n",
            "Building wheels for collected packages: lightfm\n",
            "  Building wheel for lightfm (setup.py) ... \u001b[?25l\u001b[?25hdone\n",
            "  Created wheel for lightfm: filename=lightfm-1.16-cp37-cp37m-linux_x86_64.whl size=705351 sha256=a92223e56fef764508c6d94c5ea74ef8165edb961bc13d36285ba31574831e68\n",
            "  Stored in directory: /root/.cache/pip/wheels/f8/56/28/5772a3bd3413d65f03aa452190b00898b680b10028a1021914\n",
            "Successfully built lightfm\n",
            "Installing collected packages: lightfm\n",
            "Successfully installed lightfm-1.16\n"
          ]
        }
      ],
      "source": [
        "!pip install lightfm"
      ]
    },
    {
      "cell_type": "code",
      "source": [
        "from lightfm import LightFM\n",
        "from lightfm.evaluation import precision_at_k\n",
        "from lightfm.evaluation import auc_score"
      ],
      "metadata": {
        "id": "xWPCAoh_mgTL"
      },
      "execution_count": null,
      "outputs": []
    },
    {
      "cell_type": "code",
      "execution_count": null,
      "metadata": {
        "id": "fTibFjuDaHAa"
      },
      "outputs": [],
      "source": [
        "train_precision = precision_at_k(model, train, k=5).mean()\n"
      ]
    },
    {
      "cell_type": "code",
      "source": [
        "test_precision = precision_at_k(model, test, k=5).mean()"
      ],
      "metadata": {
        "id": "ptaYRPldWC7_"
      },
      "execution_count": null,
      "outputs": []
    },
    {
      "cell_type": "code",
      "source": [
        "train_auc = auc_score(model, train).mean()"
      ],
      "metadata": {
        "id": "q5SnkmJ0Mivd"
      },
      "execution_count": null,
      "outputs": []
    },
    {
      "cell_type": "code",
      "source": [
        "train_auc"
      ],
      "metadata": {
        "colab": {
          "base_uri": "https://localhost:8080/"
        },
        "id": "WHPZ0b-SNKOA",
        "outputId": "90468a80-023f-4965-9447-201d5a801eaf"
      },
      "execution_count": null,
      "outputs": [
        {
          "output_type": "execute_result",
          "data": {
            "text/plain": [
              "0.99313504"
            ]
          },
          "metadata": {},
          "execution_count": 50
        }
      ]
    },
    {
      "cell_type": "code",
      "source": [
        "train_precision"
      ],
      "metadata": {
        "colab": {
          "base_uri": "https://localhost:8080/"
        },
        "id": "sI6YAnkFNk-U",
        "outputId": "07ffc6b5-93d1-443e-fdef-6c342ac44f30"
      },
      "execution_count": null,
      "outputs": [
        {
          "output_type": "execute_result",
          "data": {
            "text/plain": [
              "0.2"
            ]
          },
          "metadata": {},
          "execution_count": 51
        }
      ]
    },
    {
      "cell_type": "code",
      "source": [
        "!pip install recsys"
      ],
      "metadata": {
        "colab": {
          "base_uri": "https://localhost:8080/"
        },
        "id": "U2HNMHrISsn0",
        "outputId": "94f9c4ad-efdf-4099-da97-b7b6f65c8a1c"
      },
      "execution_count": null,
      "outputs": [
        {
          "output_type": "stream",
          "name": "stdout",
          "text": [
            "Collecting recsys\n",
            "  Downloading recsys-0.0.4.tar.gz (1.4 MB)\n",
            "\u001b[K     |████████████████████████████████| 1.4 MB 6.6 MB/s \n",
            "\u001b[?25hRequirement already satisfied: numpy>=1.11.2 in /usr/local/lib/python3.7/dist-packages (from recsys) (1.21.5)\n",
            "Building wheels for collected packages: recsys\n",
            "  Building wheel for recsys (setup.py) ... \u001b[?25l\u001b[?25hdone\n",
            "  Created wheel for recsys: filename=recsys-0.0.4-cp37-cp37m-linux_x86_64.whl size=750745 sha256=892535a2885dafed9d7c3a361ae0b0e61fe2541249d1d3b3a51dafc08fc12413\n",
            "  Stored in directory: /root/.cache/pip/wheels/26/12/83/61b5f75590ea53e746469255bc414104fadac60c3dcb4f9246\n",
            "Successfully built recsys\n",
            "Installing collected packages: recsys\n",
            "Successfully installed recsys-0.0.4\n"
          ]
        }
      ]
    },
    {
      "cell_type": "code",
      "source": [
        "!pip install IPython"
      ],
      "metadata": {
        "colab": {
          "base_uri": "https://localhost:8080/"
        },
        "id": "EDuzXGfQS7mX",
        "outputId": "71ddba6b-9856-48ac-8468-b4afffc17d8f"
      },
      "execution_count": null,
      "outputs": [
        {
          "output_type": "stream",
          "name": "stdout",
          "text": [
            "Requirement already satisfied: IPython in /usr/local/lib/python3.7/dist-packages (5.5.0)\n",
            "Requirement already satisfied: decorator in /usr/local/lib/python3.7/dist-packages (from IPython) (4.4.2)\n",
            "Requirement already satisfied: setuptools>=18.5 in /usr/local/lib/python3.7/dist-packages (from IPython) (57.4.0)\n",
            "Requirement already satisfied: pexpect in /usr/local/lib/python3.7/dist-packages (from IPython) (4.8.0)\n",
            "Requirement already satisfied: prompt-toolkit<2.0.0,>=1.0.4 in /usr/local/lib/python3.7/dist-packages (from IPython) (1.0.18)\n",
            "Requirement already satisfied: pygments in /usr/local/lib/python3.7/dist-packages (from IPython) (2.6.1)\n",
            "Requirement already satisfied: pickleshare in /usr/local/lib/python3.7/dist-packages (from IPython) (0.7.5)\n",
            "Requirement already satisfied: simplegeneric>0.8 in /usr/local/lib/python3.7/dist-packages (from IPython) (0.8.1)\n",
            "Requirement already satisfied: traitlets>=4.2 in /usr/local/lib/python3.7/dist-packages (from IPython) (5.1.1)\n",
            "Requirement already satisfied: six>=1.9.0 in /usr/local/lib/python3.7/dist-packages (from prompt-toolkit<2.0.0,>=1.0.4->IPython) (1.15.0)\n",
            "Requirement already satisfied: wcwidth in /usr/local/lib/python3.7/dist-packages (from prompt-toolkit<2.0.0,>=1.0.4->IPython) (0.2.5)\n",
            "Requirement already satisfied: ptyprocess>=0.5 in /usr/local/lib/python3.7/dist-packages (from pexpect->IPython) (0.7.0)\n"
          ]
        }
      ]
    },
    {
      "cell_type": "code",
      "source": [
        "pip install import_from_github_com"
      ],
      "metadata": {
        "colab": {
          "base_uri": "https://localhost:8080/"
        },
        "id": "iYB4BnA-XXLW",
        "outputId": "e5249d7e-1367-4ff4-eb79-dec98d3e6f61"
      },
      "execution_count": null,
      "outputs": [
        {
          "output_type": "stream",
          "name": "stdout",
          "text": [
            "Collecting import_from_github_com\n",
            "  Downloading import_from_github_com-0.1-py3-none-any.whl (4.3 kB)\n",
            "Installing collected packages: import-from-github-com\n",
            "Successfully installed import-from-github-com-0.1\n"
          ]
        }
      ]
    },
    {
      "cell_type": "code",
      "source": [
        "import sys\n",
        "\n"
      ],
      "metadata": {
        "id": "-Cu7tNlMbaQR"
      },
      "execution_count": null,
      "outputs": []
    },
    {
      "cell_type": "code",
      "source": [
        "import importlib.util"
      ],
      "metadata": {
        "id": "Ww0HYOHEjy2Y"
      },
      "execution_count": null,
      "outputs": []
    },
    {
      "cell_type": "code",
      "source": [
        "spec=importlib.util.spec_from_file_location(\"generic_preprocessing\",\"generic_preprocessing.py\")"
      ],
      "metadata": {
        "id": "-T8AJxy8nCBk"
      },
      "execution_count": null,
      "outputs": []
    },
    {
      "cell_type": "code",
      "source": [
        "spec2=importlib.util.spec_from_file_location(\"recsys\",\"recsys.py\")"
      ],
      "metadata": {
        "id": "s5dJ2_NJnmfa"
      },
      "execution_count": null,
      "outputs": []
    },
    {
      "cell_type": "code",
      "source": [
        "\n",
        "foo2 = importlib.util.module_from_spec(spec2)\n",
        "\n",
        "foo = importlib.util.module_from_spec(spec)\n"
      ],
      "metadata": {
        "id": "7mST7yOLlBac"
      },
      "execution_count": null,
      "outputs": []
    },
    {
      "cell_type": "code",
      "source": [
        "spec2.loader.exec_module(foo2)\n",
        "spec.loader.exec_module(foo)\n"
      ],
      "metadata": {
        "id": "Pm9_FdNlna_6"
      },
      "execution_count": null,
      "outputs": []
    },
    {
      "cell_type": "code",
      "source": [
        "interactions = foo2.create_interaction_matrix(df = datas,\n",
        "                                         user_col = 'id',\n",
        "                                         item_col = 'asins',\n",
        "                                         rating_col = 'reviews.rating')\n",
        "interactions.head()\n"
      ],
      "metadata": {
        "colab": {
          "base_uri": "https://localhost:8080/",
          "height": 301
        },
        "id": "9Nq3oolRgD0t",
        "outputId": "dbfbb3f6-2c35-4993-b273-90abdc7c44e8"
      },
      "execution_count": null,
      "outputs": [
        {
          "output_type": "execute_result",
          "data": {
            "text/html": [
              "\n",
              "  <div id=\"df-6bd5bcbe-e802-4a90-a4a8-ed71db04fb91\">\n",
              "    <div class=\"colab-df-container\">\n",
              "      <div>\n",
              "<style scoped>\n",
              "    .dataframe tbody tr th:only-of-type {\n",
              "        vertical-align: middle;\n",
              "    }\n",
              "\n",
              "    .dataframe tbody tr th {\n",
              "        vertical-align: top;\n",
              "    }\n",
              "\n",
              "    .dataframe thead th {\n",
              "        text-align: right;\n",
              "    }\n",
              "</style>\n",
              "<table border=\"1\" class=\"dataframe\">\n",
              "  <thead>\n",
              "    <tr style=\"text-align: right;\">\n",
              "      <th>asins</th>\n",
              "      <th>B00IOY8XWQ</th>\n",
              "      <th>B00IOYAM4I</th>\n",
              "      <th>B00QFQRELG</th>\n",
              "      <th>B00REQKWGA</th>\n",
              "      <th>B00VINDBJK</th>\n",
              "      <th>B00ZV9PXP2</th>\n",
              "      <th>B010CEHQTG</th>\n",
              "      <th>B017JG41PC</th>\n",
              "      <th>B0189XYY0Q</th>\n",
              "      <th>B018Y224PY</th>\n",
              "      <th>B018Y225IA</th>\n",
              "      <th>B018Y22BI4</th>\n",
              "      <th>B018Y22C2Y</th>\n",
              "      <th>B018Y23MNM</th>\n",
              "      <th>B01ACEKAJY</th>\n",
              "      <th>B01AHB9C1E</th>\n",
              "      <th>B01AHB9CN2</th>\n",
              "      <th>B01AHB9CYG</th>\n",
              "      <th>B01AHBBG04</th>\n",
              "      <th>B01AHBDCKQ</th>\n",
              "      <th>B01BH83OOM</th>\n",
              "      <th>B01J24C0TI</th>\n",
              "      <th>B01N32NCPM</th>\n",
              "      <th>B06XB29FPF</th>\n",
              "    </tr>\n",
              "    <tr>\n",
              "      <th>id</th>\n",
              "      <th></th>\n",
              "      <th></th>\n",
              "      <th></th>\n",
              "      <th></th>\n",
              "      <th></th>\n",
              "      <th></th>\n",
              "      <th></th>\n",
              "      <th></th>\n",
              "      <th></th>\n",
              "      <th></th>\n",
              "      <th></th>\n",
              "      <th></th>\n",
              "      <th></th>\n",
              "      <th></th>\n",
              "      <th></th>\n",
              "      <th></th>\n",
              "      <th></th>\n",
              "      <th></th>\n",
              "      <th></th>\n",
              "      <th></th>\n",
              "      <th></th>\n",
              "      <th></th>\n",
              "      <th></th>\n",
              "      <th></th>\n",
              "    </tr>\n",
              "  </thead>\n",
              "  <tbody>\n",
              "    <tr>\n",
              "      <th>AV-XeQLWuC1rwyj_gbP5</th>\n",
              "      <td>0.0</td>\n",
              "      <td>0.0</td>\n",
              "      <td>0.0</td>\n",
              "      <td>0.0</td>\n",
              "      <td>0.0</td>\n",
              "      <td>0.0</td>\n",
              "      <td>0.0</td>\n",
              "      <td>0.0</td>\n",
              "      <td>0.0</td>\n",
              "      <td>0.0</td>\n",
              "      <td>0.0</td>\n",
              "      <td>0.0</td>\n",
              "      <td>0.0</td>\n",
              "      <td>0.0</td>\n",
              "      <td>0.0</td>\n",
              "      <td>0.0</td>\n",
              "      <td>0.0</td>\n",
              "      <td>0.0</td>\n",
              "      <td>0.0</td>\n",
              "      <td>0.0</td>\n",
              "      <td>0.0</td>\n",
              "      <td>0.0</td>\n",
              "      <td>20.0</td>\n",
              "      <td>0.0</td>\n",
              "    </tr>\n",
              "    <tr>\n",
              "      <th>AVpfIfGA1cnluZ0-emyp</th>\n",
              "      <td>0.0</td>\n",
              "      <td>0.0</td>\n",
              "      <td>107.0</td>\n",
              "      <td>0.0</td>\n",
              "      <td>0.0</td>\n",
              "      <td>0.0</td>\n",
              "      <td>0.0</td>\n",
              "      <td>0.0</td>\n",
              "      <td>0.0</td>\n",
              "      <td>0.0</td>\n",
              "      <td>0.0</td>\n",
              "      <td>0.0</td>\n",
              "      <td>0.0</td>\n",
              "      <td>0.0</td>\n",
              "      <td>0.0</td>\n",
              "      <td>0.0</td>\n",
              "      <td>0.0</td>\n",
              "      <td>0.0</td>\n",
              "      <td>0.0</td>\n",
              "      <td>0.0</td>\n",
              "      <td>0.0</td>\n",
              "      <td>0.0</td>\n",
              "      <td>0.0</td>\n",
              "      <td>0.0</td>\n",
              "    </tr>\n",
              "    <tr>\n",
              "      <th>AVpfpK8KLJeJML43BCuD</th>\n",
              "      <td>0.0</td>\n",
              "      <td>0.0</td>\n",
              "      <td>0.0</td>\n",
              "      <td>0.0</td>\n",
              "      <td>0.0</td>\n",
              "      <td>0.0</td>\n",
              "      <td>0.0</td>\n",
              "      <td>0.0</td>\n",
              "      <td>0.0</td>\n",
              "      <td>0.0</td>\n",
              "      <td>0.0</td>\n",
              "      <td>0.0</td>\n",
              "      <td>0.0</td>\n",
              "      <td>0.0</td>\n",
              "      <td>0.0</td>\n",
              "      <td>0.0</td>\n",
              "      <td>0.0</td>\n",
              "      <td>0.0</td>\n",
              "      <td>0.0</td>\n",
              "      <td>0.0</td>\n",
              "      <td>1014.0</td>\n",
              "      <td>0.0</td>\n",
              "      <td>0.0</td>\n",
              "      <td>0.0</td>\n",
              "    </tr>\n",
              "    <tr>\n",
              "      <th>AVpftoij1cnluZ0-p5n2</th>\n",
              "      <td>0.0</td>\n",
              "      <td>106.0</td>\n",
              "      <td>0.0</td>\n",
              "      <td>0.0</td>\n",
              "      <td>0.0</td>\n",
              "      <td>0.0</td>\n",
              "      <td>0.0</td>\n",
              "      <td>0.0</td>\n",
              "      <td>0.0</td>\n",
              "      <td>0.0</td>\n",
              "      <td>0.0</td>\n",
              "      <td>0.0</td>\n",
              "      <td>0.0</td>\n",
              "      <td>0.0</td>\n",
              "      <td>0.0</td>\n",
              "      <td>0.0</td>\n",
              "      <td>0.0</td>\n",
              "      <td>0.0</td>\n",
              "      <td>0.0</td>\n",
              "      <td>0.0</td>\n",
              "      <td>0.0</td>\n",
              "      <td>0.0</td>\n",
              "      <td>0.0</td>\n",
              "      <td>0.0</td>\n",
              "    </tr>\n",
              "    <tr>\n",
              "      <th>AVpgdkC8ilAPnD_xsvyi</th>\n",
              "      <td>0.0</td>\n",
              "      <td>0.0</td>\n",
              "      <td>0.0</td>\n",
              "      <td>0.0</td>\n",
              "      <td>0.0</td>\n",
              "      <td>0.0</td>\n",
              "      <td>0.0</td>\n",
              "      <td>0.0</td>\n",
              "      <td>0.0</td>\n",
              "      <td>0.0</td>\n",
              "      <td>0.0</td>\n",
              "      <td>1655.0</td>\n",
              "      <td>0.0</td>\n",
              "      <td>0.0</td>\n",
              "      <td>0.0</td>\n",
              "      <td>0.0</td>\n",
              "      <td>0.0</td>\n",
              "      <td>0.0</td>\n",
              "      <td>0.0</td>\n",
              "      <td>0.0</td>\n",
              "      <td>0.0</td>\n",
              "      <td>0.0</td>\n",
              "      <td>0.0</td>\n",
              "      <td>0.0</td>\n",
              "    </tr>\n",
              "  </tbody>\n",
              "</table>\n",
              "</div>\n",
              "      <button class=\"colab-df-convert\" onclick=\"convertToInteractive('df-6bd5bcbe-e802-4a90-a4a8-ed71db04fb91')\"\n",
              "              title=\"Convert this dataframe to an interactive table.\"\n",
              "              style=\"display:none;\">\n",
              "        \n",
              "  <svg xmlns=\"http://www.w3.org/2000/svg\" height=\"24px\"viewBox=\"0 0 24 24\"\n",
              "       width=\"24px\">\n",
              "    <path d=\"M0 0h24v24H0V0z\" fill=\"none\"/>\n",
              "    <path d=\"M18.56 5.44l.94 2.06.94-2.06 2.06-.94-2.06-.94-.94-2.06-.94 2.06-2.06.94zm-11 1L8.5 8.5l.94-2.06 2.06-.94-2.06-.94L8.5 2.5l-.94 2.06-2.06.94zm10 10l.94 2.06.94-2.06 2.06-.94-2.06-.94-.94-2.06-.94 2.06-2.06.94z\"/><path d=\"M17.41 7.96l-1.37-1.37c-.4-.4-.92-.59-1.43-.59-.52 0-1.04.2-1.43.59L10.3 9.45l-7.72 7.72c-.78.78-.78 2.05 0 2.83L4 21.41c.39.39.9.59 1.41.59.51 0 1.02-.2 1.41-.59l7.78-7.78 2.81-2.81c.8-.78.8-2.07 0-2.86zM5.41 20L4 18.59l7.72-7.72 1.47 1.35L5.41 20z\"/>\n",
              "  </svg>\n",
              "      </button>\n",
              "      \n",
              "  <style>\n",
              "    .colab-df-container {\n",
              "      display:flex;\n",
              "      flex-wrap:wrap;\n",
              "      gap: 12px;\n",
              "    }\n",
              "\n",
              "    .colab-df-convert {\n",
              "      background-color: #E8F0FE;\n",
              "      border: none;\n",
              "      border-radius: 50%;\n",
              "      cursor: pointer;\n",
              "      display: none;\n",
              "      fill: #1967D2;\n",
              "      height: 32px;\n",
              "      padding: 0 0 0 0;\n",
              "      width: 32px;\n",
              "    }\n",
              "\n",
              "    .colab-df-convert:hover {\n",
              "      background-color: #E2EBFA;\n",
              "      box-shadow: 0px 1px 2px rgba(60, 64, 67, 0.3), 0px 1px 3px 1px rgba(60, 64, 67, 0.15);\n",
              "      fill: #174EA6;\n",
              "    }\n",
              "\n",
              "    [theme=dark] .colab-df-convert {\n",
              "      background-color: #3B4455;\n",
              "      fill: #D2E3FC;\n",
              "    }\n",
              "\n",
              "    [theme=dark] .colab-df-convert:hover {\n",
              "      background-color: #434B5C;\n",
              "      box-shadow: 0px 1px 3px 1px rgba(0, 0, 0, 0.15);\n",
              "      filter: drop-shadow(0px 1px 2px rgba(0, 0, 0, 0.3));\n",
              "      fill: #FFFFFF;\n",
              "    }\n",
              "  </style>\n",
              "\n",
              "      <script>\n",
              "        const buttonEl =\n",
              "          document.querySelector('#df-6bd5bcbe-e802-4a90-a4a8-ed71db04fb91 button.colab-df-convert');\n",
              "        buttonEl.style.display =\n",
              "          google.colab.kernel.accessAllowed ? 'block' : 'none';\n",
              "\n",
              "        async function convertToInteractive(key) {\n",
              "          const element = document.querySelector('#df-6bd5bcbe-e802-4a90-a4a8-ed71db04fb91');\n",
              "          const dataTable =\n",
              "            await google.colab.kernel.invokeFunction('convertToInteractive',\n",
              "                                                     [key], {});\n",
              "          if (!dataTable) return;\n",
              "\n",
              "          const docLinkHtml = 'Like what you see? Visit the ' +\n",
              "            '<a target=\"_blank\" href=https://colab.research.google.com/notebooks/data_table.ipynb>data table notebook</a>'\n",
              "            + ' to learn more about interactive tables.';\n",
              "          element.innerHTML = '';\n",
              "          dataTable['output_type'] = 'display_data';\n",
              "          await google.colab.output.renderOutput(dataTable, element);\n",
              "          const docLink = document.createElement('div');\n",
              "          docLink.innerHTML = docLinkHtml;\n",
              "          element.appendChild(docLink);\n",
              "        }\n",
              "      </script>\n",
              "    </div>\n",
              "  </div>\n",
              "  "
            ],
            "text/plain": [
              "asins                 B00IOY8XWQ  B00IOYAM4I  ...  B01N32NCPM  B06XB29FPF\n",
              "id                                            ...                        \n",
              "AV-XeQLWuC1rwyj_gbP5         0.0         0.0  ...        20.0         0.0\n",
              "AVpfIfGA1cnluZ0-emyp         0.0         0.0  ...         0.0         0.0\n",
              "AVpfpK8KLJeJML43BCuD         0.0         0.0  ...         0.0         0.0\n",
              "AVpftoij1cnluZ0-p5n2         0.0       106.0  ...         0.0         0.0\n",
              "AVpgdkC8ilAPnD_xsvyi         0.0         0.0  ...         0.0         0.0\n",
              "\n",
              "[5 rows x 24 columns]"
            ]
          },
          "metadata": {},
          "execution_count": 160
        }
      ]
    },
    {
      "cell_type": "code",
      "source": [
        "mf_model = foo2.runMF(interactions = interactions,\n",
        "                 n_components = 30,\n",
        "                 loss = 'warp',\n",
        "                 epoch = 30,\n",
        "                 n_jobs = 4)\n"
      ],
      "metadata": {
        "id": "Hodot3SeHzKX"
      },
      "execution_count": null,
      "outputs": []
    },
    {
      "cell_type": "code",
      "source": [
        "user_dict = foo2.create_user_dict(interactions=interactions)\n",
        "# Create Item dict\n",
        "produk_dict = foo2.create_item_dict(df = datas,\n",
        "                               id_col = 'asins',\n",
        "                               name_col = 'name')"
      ],
      "metadata": {
        "id": "fs6jeKJ_vFps"
      },
      "execution_count": null,
      "outputs": []
    },
    {
      "cell_type": "code",
      "source": [
        "rec_list = foo2.sample_recommendation_user(model = mf_model, \n",
        "                                      interactions = interactions, \n",
        "                                      user_id = 'AV-XeQLWuC1rwyj_gbP5', \n",
        "                                      user_dict = user_dict,\n",
        "                                      item_dict = produk_dict, \n",
        "                                      threshold = 4,\n",
        "                                      nrec_items = 10,\n",
        "                                      show = True)"
      ],
      "metadata": {
        "id": "yzT5vzQ0fisW",
        "colab": {
          "base_uri": "https://localhost:8080/"
        },
        "outputId": "dd891edd-ba2c-4504-8007-84c96bfc8f93"
      },
      "execution_count": null,
      "outputs": [
        {
          "output_type": "stream",
          "name": "stdout",
          "text": [
            "Known Likes:\n",
            "1- Amazon Fire TV with 4K Ultra HD and Alexa Voice Remote (Pendant Design) | Streaming Media Player\n",
            "\n",
            " Recommended Items:\n",
            "1- Fire HD 8 Tablet with Alexa, 8\" HD Display, 32 GB, Tangerine - with Special Offers\n",
            "2- Kindle E-reader - White, 6 Glare-Free Touchscreen Display, Wi-Fi - Includes Special Offers\n",
            "3- Fire Kids Edition Tablet, 7 Display, Wi-Fi, 16 GB, Blue Kid-Proof Case\n",
            "4- Amazon Kindle E-Reader 6\" Wifi (8th Generation, 2016)\n",
            "5- All-New Fire HD 8 Tablet, 8\" HD Display, Wi-Fi, 32 GB - Includes Special Offers, Magenta\n",
            "6- All-New Fire HD 8 Tablet, 8\" HD Display, Wi-Fi, 32 GB - Includes Special Offers, Black\n",
            "7- All-New Fire HD 8 Tablet, 8 HD Display, Wi-Fi, 16 GB - Includes Special Offers, Blue\n",
            "8- Kindle Oasis E-reader with Leather Charging Cover - Black, 6\" High-Resolution Display (300 ppi), Wi-Fi - Includes Special Offers\n",
            "9- Amazon - Echo Plus w/ Built-In Hub - Silver\n",
            "10- Amazon 9W PowerFast Official OEM USB Charger and Power Adapter for Fire Tablets and Kindle eReaders\n"
          ]
        }
      ]
    },
    {
      "cell_type": "code",
      "source": [
        "foo2.sample_recommendation_item(model = mf_model,\n",
        "                           interactions = interactions,\n",
        "                           item_id = 'B00IOY8XWQ',\n",
        "                           user_dict = user_dict,\n",
        "                           item_dict = produk_dict,\n",
        "                           number_of_user = 15,\n",
        "                           )"
      ],
      "metadata": {
        "colab": {
          "base_uri": "https://localhost:8080/"
        },
        "id": "_akMRfNsl36d",
        "outputId": "3791019f-bc9d-4231-a55e-8076c4d39134"
      },
      "execution_count": null,
      "outputs": [
        {
          "output_type": "execute_result",
          "data": {
            "text/plain": [
              "['AVphPmHuilAPnD_x3E5h',\n",
              " 'AVqkIhkhv8e3D1O-lebZ',\n",
              " 'AVpftoij1cnluZ0-p5n2',\n",
              " 'AVpidLjVilAPnD_xEVpI',\n",
              " 'AVqVGZN9QMlgsOJE6eUZ',\n",
              " 'AVpjEN4jLJeJML43rpUe',\n",
              " 'AVph0EeEilAPnD_x9myq',\n",
              " 'AWMjT0WguC1rwyj_rFh3',\n",
              " 'AWFUWc8THh53nbDRF6YO',\n",
              " 'AVpfIfGA1cnluZ0-emyp',\n",
              " 'AVqkIh8WQMlgsOJE6fu-',\n",
              " 'AVqkIdZiv8e3D1O-leaJ',\n",
              " 'AVqkIh9HQMlgsOJE6fu_',\n",
              " 'AV-XeQLWuC1rwyj_gbP5',\n",
              " 'AVqVGZSEQMlgsOJE6eUc']"
            ]
          },
          "metadata": {},
          "execution_count": 182
        }
      ]
    },
    {
      "cell_type": "code",
      "source": [
        "item_item_dist = foo2.create_item_emdedding_distance_matrix(model = mf_model,\n",
        "                                                       interactions = interactions)\n",
        "## Checking item embedding distance matrix\n",
        "item_item_dist.head()"
      ],
      "metadata": {
        "colab": {
          "base_uri": "https://localhost:8080/",
          "height": 301
        },
        "id": "2OXnq8RyxEgC",
        "outputId": "c60e4f41-80d1-4087-9943-2779dd8dc095"
      },
      "execution_count": null,
      "outputs": [
        {
          "output_type": "execute_result",
          "data": {
            "text/html": [
              "\n",
              "  <div id=\"df-ccdf5fd5-8e2a-46ec-8ba7-c523ac919905\">\n",
              "    <div class=\"colab-df-container\">\n",
              "      <div>\n",
              "<style scoped>\n",
              "    .dataframe tbody tr th:only-of-type {\n",
              "        vertical-align: middle;\n",
              "    }\n",
              "\n",
              "    .dataframe tbody tr th {\n",
              "        vertical-align: top;\n",
              "    }\n",
              "\n",
              "    .dataframe thead th {\n",
              "        text-align: right;\n",
              "    }\n",
              "</style>\n",
              "<table border=\"1\" class=\"dataframe\">\n",
              "  <thead>\n",
              "    <tr style=\"text-align: right;\">\n",
              "      <th>asins</th>\n",
              "      <th>B00IOY8XWQ</th>\n",
              "      <th>B00IOYAM4I</th>\n",
              "      <th>B00QFQRELG</th>\n",
              "      <th>B00REQKWGA</th>\n",
              "      <th>B00VINDBJK</th>\n",
              "      <th>B00ZV9PXP2</th>\n",
              "      <th>B010CEHQTG</th>\n",
              "      <th>B017JG41PC</th>\n",
              "      <th>B0189XYY0Q</th>\n",
              "      <th>B018Y224PY</th>\n",
              "      <th>B018Y225IA</th>\n",
              "      <th>B018Y22BI4</th>\n",
              "      <th>B018Y22C2Y</th>\n",
              "      <th>B018Y23MNM</th>\n",
              "      <th>B01ACEKAJY</th>\n",
              "      <th>B01AHB9C1E</th>\n",
              "      <th>B01AHB9CN2</th>\n",
              "      <th>B01AHB9CYG</th>\n",
              "      <th>B01AHBBG04</th>\n",
              "      <th>B01AHBDCKQ</th>\n",
              "      <th>B01BH83OOM</th>\n",
              "      <th>B01J24C0TI</th>\n",
              "      <th>B01N32NCPM</th>\n",
              "      <th>B06XB29FPF</th>\n",
              "    </tr>\n",
              "    <tr>\n",
              "      <th>asins</th>\n",
              "      <th></th>\n",
              "      <th></th>\n",
              "      <th></th>\n",
              "      <th></th>\n",
              "      <th></th>\n",
              "      <th></th>\n",
              "      <th></th>\n",
              "      <th></th>\n",
              "      <th></th>\n",
              "      <th></th>\n",
              "      <th></th>\n",
              "      <th></th>\n",
              "      <th></th>\n",
              "      <th></th>\n",
              "      <th></th>\n",
              "      <th></th>\n",
              "      <th></th>\n",
              "      <th></th>\n",
              "      <th></th>\n",
              "      <th></th>\n",
              "      <th></th>\n",
              "      <th></th>\n",
              "      <th></th>\n",
              "      <th></th>\n",
              "    </tr>\n",
              "  </thead>\n",
              "  <tbody>\n",
              "    <tr>\n",
              "      <th>B00IOY8XWQ</th>\n",
              "      <td>1.000000</td>\n",
              "      <td>0.334745</td>\n",
              "      <td>-0.043251</td>\n",
              "      <td>0.176629</td>\n",
              "      <td>-0.191000</td>\n",
              "      <td>-0.183155</td>\n",
              "      <td>-0.000549</td>\n",
              "      <td>-0.143181</td>\n",
              "      <td>0.302192</td>\n",
              "      <td>-0.049025</td>\n",
              "      <td>0.053764</td>\n",
              "      <td>-0.219229</td>\n",
              "      <td>0.090193</td>\n",
              "      <td>-0.227090</td>\n",
              "      <td>-0.059385</td>\n",
              "      <td>-0.201571</td>\n",
              "      <td>-0.331672</td>\n",
              "      <td>-0.274152</td>\n",
              "      <td>0.413509</td>\n",
              "      <td>-0.136849</td>\n",
              "      <td>-0.139619</td>\n",
              "      <td>-0.097452</td>\n",
              "      <td>-0.110190</td>\n",
              "      <td>0.075482</td>\n",
              "    </tr>\n",
              "    <tr>\n",
              "      <th>B00IOYAM4I</th>\n",
              "      <td>0.334745</td>\n",
              "      <td>1.000000</td>\n",
              "      <td>0.210439</td>\n",
              "      <td>-0.519197</td>\n",
              "      <td>-0.174009</td>\n",
              "      <td>0.054565</td>\n",
              "      <td>0.086791</td>\n",
              "      <td>-0.119692</td>\n",
              "      <td>0.248010</td>\n",
              "      <td>0.018318</td>\n",
              "      <td>-0.268732</td>\n",
              "      <td>0.053995</td>\n",
              "      <td>-0.007209</td>\n",
              "      <td>-0.121140</td>\n",
              "      <td>-0.271081</td>\n",
              "      <td>-0.172736</td>\n",
              "      <td>-0.088910</td>\n",
              "      <td>0.133896</td>\n",
              "      <td>0.141619</td>\n",
              "      <td>-0.099815</td>\n",
              "      <td>-0.106559</td>\n",
              "      <td>-0.089349</td>\n",
              "      <td>-0.033915</td>\n",
              "      <td>-0.218124</td>\n",
              "    </tr>\n",
              "    <tr>\n",
              "      <th>B00QFQRELG</th>\n",
              "      <td>-0.043251</td>\n",
              "      <td>0.210439</td>\n",
              "      <td>1.000000</td>\n",
              "      <td>-0.081691</td>\n",
              "      <td>-0.070131</td>\n",
              "      <td>-0.223599</td>\n",
              "      <td>0.006545</td>\n",
              "      <td>0.402527</td>\n",
              "      <td>0.018002</td>\n",
              "      <td>-0.043817</td>\n",
              "      <td>-0.318501</td>\n",
              "      <td>0.059979</td>\n",
              "      <td>-0.370900</td>\n",
              "      <td>-0.026093</td>\n",
              "      <td>-0.044411</td>\n",
              "      <td>-0.353475</td>\n",
              "      <td>0.096794</td>\n",
              "      <td>-0.245704</td>\n",
              "      <td>-0.308312</td>\n",
              "      <td>0.016517</td>\n",
              "      <td>0.255231</td>\n",
              "      <td>0.236411</td>\n",
              "      <td>-0.197730</td>\n",
              "      <td>0.110492</td>\n",
              "    </tr>\n",
              "    <tr>\n",
              "      <th>B00REQKWGA</th>\n",
              "      <td>0.176629</td>\n",
              "      <td>-0.519197</td>\n",
              "      <td>-0.081691</td>\n",
              "      <td>1.000000</td>\n",
              "      <td>-0.253526</td>\n",
              "      <td>-0.531522</td>\n",
              "      <td>-0.076445</td>\n",
              "      <td>0.084724</td>\n",
              "      <td>-0.397062</td>\n",
              "      <td>-0.072954</td>\n",
              "      <td>0.158499</td>\n",
              "      <td>-0.009101</td>\n",
              "      <td>0.195170</td>\n",
              "      <td>0.234502</td>\n",
              "      <td>0.171657</td>\n",
              "      <td>0.064522</td>\n",
              "      <td>-0.181760</td>\n",
              "      <td>-0.166728</td>\n",
              "      <td>-0.131602</td>\n",
              "      <td>0.104454</td>\n",
              "      <td>0.227528</td>\n",
              "      <td>-0.009105</td>\n",
              "      <td>0.033153</td>\n",
              "      <td>0.047057</td>\n",
              "    </tr>\n",
              "    <tr>\n",
              "      <th>B00VINDBJK</th>\n",
              "      <td>-0.191000</td>\n",
              "      <td>-0.174009</td>\n",
              "      <td>-0.070131</td>\n",
              "      <td>-0.253526</td>\n",
              "      <td>1.000000</td>\n",
              "      <td>0.327805</td>\n",
              "      <td>0.053629</td>\n",
              "      <td>-0.111210</td>\n",
              "      <td>-0.131203</td>\n",
              "      <td>0.277692</td>\n",
              "      <td>-0.141704</td>\n",
              "      <td>-0.039875</td>\n",
              "      <td>-0.111308</td>\n",
              "      <td>-0.269523</td>\n",
              "      <td>-0.183178</td>\n",
              "      <td>0.356155</td>\n",
              "      <td>0.266379</td>\n",
              "      <td>-0.134203</td>\n",
              "      <td>-0.060736</td>\n",
              "      <td>-0.269910</td>\n",
              "      <td>-0.372468</td>\n",
              "      <td>-0.016697</td>\n",
              "      <td>-0.024378</td>\n",
              "      <td>0.176183</td>\n",
              "    </tr>\n",
              "  </tbody>\n",
              "</table>\n",
              "</div>\n",
              "      <button class=\"colab-df-convert\" onclick=\"convertToInteractive('df-ccdf5fd5-8e2a-46ec-8ba7-c523ac919905')\"\n",
              "              title=\"Convert this dataframe to an interactive table.\"\n",
              "              style=\"display:none;\">\n",
              "        \n",
              "  <svg xmlns=\"http://www.w3.org/2000/svg\" height=\"24px\"viewBox=\"0 0 24 24\"\n",
              "       width=\"24px\">\n",
              "    <path d=\"M0 0h24v24H0V0z\" fill=\"none\"/>\n",
              "    <path d=\"M18.56 5.44l.94 2.06.94-2.06 2.06-.94-2.06-.94-.94-2.06-.94 2.06-2.06.94zm-11 1L8.5 8.5l.94-2.06 2.06-.94-2.06-.94L8.5 2.5l-.94 2.06-2.06.94zm10 10l.94 2.06.94-2.06 2.06-.94-2.06-.94-.94-2.06-.94 2.06-2.06.94z\"/><path d=\"M17.41 7.96l-1.37-1.37c-.4-.4-.92-.59-1.43-.59-.52 0-1.04.2-1.43.59L10.3 9.45l-7.72 7.72c-.78.78-.78 2.05 0 2.83L4 21.41c.39.39.9.59 1.41.59.51 0 1.02-.2 1.41-.59l7.78-7.78 2.81-2.81c.8-.78.8-2.07 0-2.86zM5.41 20L4 18.59l7.72-7.72 1.47 1.35L5.41 20z\"/>\n",
              "  </svg>\n",
              "      </button>\n",
              "      \n",
              "  <style>\n",
              "    .colab-df-container {\n",
              "      display:flex;\n",
              "      flex-wrap:wrap;\n",
              "      gap: 12px;\n",
              "    }\n",
              "\n",
              "    .colab-df-convert {\n",
              "      background-color: #E8F0FE;\n",
              "      border: none;\n",
              "      border-radius: 50%;\n",
              "      cursor: pointer;\n",
              "      display: none;\n",
              "      fill: #1967D2;\n",
              "      height: 32px;\n",
              "      padding: 0 0 0 0;\n",
              "      width: 32px;\n",
              "    }\n",
              "\n",
              "    .colab-df-convert:hover {\n",
              "      background-color: #E2EBFA;\n",
              "      box-shadow: 0px 1px 2px rgba(60, 64, 67, 0.3), 0px 1px 3px 1px rgba(60, 64, 67, 0.15);\n",
              "      fill: #174EA6;\n",
              "    }\n",
              "\n",
              "    [theme=dark] .colab-df-convert {\n",
              "      background-color: #3B4455;\n",
              "      fill: #D2E3FC;\n",
              "    }\n",
              "\n",
              "    [theme=dark] .colab-df-convert:hover {\n",
              "      background-color: #434B5C;\n",
              "      box-shadow: 0px 1px 3px 1px rgba(0, 0, 0, 0.15);\n",
              "      filter: drop-shadow(0px 1px 2px rgba(0, 0, 0, 0.3));\n",
              "      fill: #FFFFFF;\n",
              "    }\n",
              "  </style>\n",
              "\n",
              "      <script>\n",
              "        const buttonEl =\n",
              "          document.querySelector('#df-ccdf5fd5-8e2a-46ec-8ba7-c523ac919905 button.colab-df-convert');\n",
              "        buttonEl.style.display =\n",
              "          google.colab.kernel.accessAllowed ? 'block' : 'none';\n",
              "\n",
              "        async function convertToInteractive(key) {\n",
              "          const element = document.querySelector('#df-ccdf5fd5-8e2a-46ec-8ba7-c523ac919905');\n",
              "          const dataTable =\n",
              "            await google.colab.kernel.invokeFunction('convertToInteractive',\n",
              "                                                     [key], {});\n",
              "          if (!dataTable) return;\n",
              "\n",
              "          const docLinkHtml = 'Like what you see? Visit the ' +\n",
              "            '<a target=\"_blank\" href=https://colab.research.google.com/notebooks/data_table.ipynb>data table notebook</a>'\n",
              "            + ' to learn more about interactive tables.';\n",
              "          element.innerHTML = '';\n",
              "          dataTable['output_type'] = 'display_data';\n",
              "          await google.colab.output.renderOutput(dataTable, element);\n",
              "          const docLink = document.createElement('div');\n",
              "          docLink.innerHTML = docLinkHtml;\n",
              "          element.appendChild(docLink);\n",
              "        }\n",
              "      </script>\n",
              "    </div>\n",
              "  </div>\n",
              "  "
            ],
            "text/plain": [
              "asins       B00IOY8XWQ  B00IOYAM4I  ...  B01N32NCPM  B06XB29FPF\n",
              "asins                               ...                        \n",
              "B00IOY8XWQ    1.000000    0.334745  ...   -0.110190    0.075482\n",
              "B00IOYAM4I    0.334745    1.000000  ...   -0.033915   -0.218124\n",
              "B00QFQRELG   -0.043251    0.210439  ...   -0.197730    0.110492\n",
              "B00REQKWGA    0.176629   -0.519197  ...    0.033153    0.047057\n",
              "B00VINDBJK   -0.191000   -0.174009  ...   -0.024378    0.176183\n",
              "\n",
              "[5 rows x 24 columns]"
            ]
          },
          "metadata": {},
          "execution_count": 183
        }
      ]
    },
    {
      "cell_type": "code",
      "source": [
        "produk_list = foo2.item_item_recommendation(item_emdedding_distance_matrix = item_item_dist,\n",
        "                                    item_id = 'B00REQKWGA',\n",
        "                                    item_dict = produk_dict,\n",
        "                                    n_items = 10)"
      ],
      "metadata": {
        "colab": {
          "base_uri": "https://localhost:8080/"
        },
        "id": "FMw2UNgLxQvJ",
        "outputId": "98cb5994-88c7-46ee-f6cc-2ab00b7d0151"
      },
      "execution_count": null,
      "outputs": [
        {
          "output_type": "stream",
          "name": "stdout",
          "text": [
            "Item of interest :Kindle Oasis E-reader with Leather Charging Cover - Black, 6\" High-Resolution Display (300 ppi), Wi-Fi - Includes Special Offers\n",
            "Item similar to the above item:\n",
            "1- Fire Kids Edition Tablet, 7 Display, Wi-Fi, 16 GB, Green Kid-Proof Case\n",
            "2- Amazon Tap - Alexa-Enabled Portable Bluetooth Speaker\n",
            "3- Fire Kids Edition Tablet, 7 Display, Wi-Fi, 16 GB, Blue Kid-Proof Case\n",
            "4- Amazon - Kindle Voyage - 6\" - 4GB - Black\n",
            "5- All-New Fire HD 8 Tablet, 8\" HD Display, Wi-Fi, 32 GB - Includes Special Offers, Black\n",
            "6- Brand New Amazon Kindle Fire 16gb 7\" Ips Display Tablet Wifi 16 Gb Blue\n",
            "7- All-New Fire HD 8 Tablet, 8 HD Display, Wi-Fi, 32 GB - Includes Special Offers, Blue\n",
            "8- Kindle E-reader - White, 6 Glare-Free Touchscreen Display, Wi-Fi - Includes Special Offers\n",
            "9- Fire HD 8 Tablet with Alexa, 8\" HD Display, 32 GB, Tangerine - with Special Offers\n",
            "10- Amazon - Echo Plus w/ Built-In Hub - Silver\n"
          ]
        }
      ]
    },
    {
      "cell_type": "code",
      "source": [
        ""
      ],
      "metadata": {
        "id": "HREIIx0OxEji"
      },
      "execution_count": null,
      "outputs": []
    },
    {
      "cell_type": "code",
      "source": [
        ""
      ],
      "metadata": {
        "id": "ztgVLX7rxEtp"
      },
      "execution_count": null,
      "outputs": []
    },
    {
      "cell_type": "code",
      "source": [
        ""
      ],
      "metadata": {
        "id": "oaLK6DFjxExI"
      },
      "execution_count": null,
      "outputs": []
    }
  ],
  "metadata": {
    "kernelspec": {
      "display_name": "Python 3",
      "language": "python",
      "name": "python3"
    },
    "language_info": {
      "codemirror_mode": {
        "name": "ipython",
        "version": 3
      },
      "file_extension": ".py",
      "mimetype": "text/x-python",
      "name": "python",
      "nbconvert_exporter": "python",
      "pygments_lexer": "ipython3",
      "version": "3.7.4"
    },
    "colab": {
      "name": "Recomendation System Amazon Product.ipynb",
      "provenance": [],
      "collapsed_sections": [],
      "include_colab_link": true
    }
  },
  "nbformat": 4,
  "nbformat_minor": 0
}